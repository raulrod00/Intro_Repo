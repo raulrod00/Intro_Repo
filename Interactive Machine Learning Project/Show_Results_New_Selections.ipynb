{
 "metadata": {
  "name": "",
  "signature": "sha256:02ecbcd3a37fbd64c70799886e2669e1726327f595249d2ccf5fc36f13ba3580"
 },
 "nbformat": 3,
 "nbformat_minor": 0,
 "worksheets": [
  {
   "cells": [
    {
     "cell_type": "heading",
     "level": 1,
     "metadata": {},
     "source": [
      "Using model to make predictions"
     ]
    },
    {
     "cell_type": "heading",
     "level": 2,
     "metadata": {},
     "source": [
      "Imports"
     ]
    },
    {
     "cell_type": "code",
     "collapsed": false,
     "input": [
      "import os\n",
      "import cv2\n",
      "import cPickle\n",
      "\n",
      "import scipy.io as sio\n",
      "import numpy as np\n",
      "\n",
      "from matplotlib import pyplot as plt\n",
      "from matplotlib.widgets import RectangleSelector\n",
      "from matplotlib.patches import Rectangle\n",
      "\n",
      "from pylab import *\n",
      "\n",
      "from sklearn.externals import joblib\n",
      "from sklearn import preprocessing\n",
      "from sklearn import linear_model, datasets, metrics"
     ],
     "language": "python",
     "metadata": {},
     "outputs": [],
     "prompt_number": 1
    },
    {
     "cell_type": "heading",
     "level": 3,
     "metadata": {},
     "source": [
      "Load Model"
     ]
    },
    {
     "cell_type": "code",
     "collapsed": false,
     "input": [
      "# load it again\n",
      "with open('NN_LR1.pkl', 'rb') as fid:\n",
      "    classifier = cPickle.load(fid)"
     ],
     "language": "python",
     "metadata": {},
     "outputs": [],
     "prompt_number": 2
    },
    {
     "cell_type": "heading",
     "level": 2,
     "metadata": {},
     "source": [
      "Definitions"
     ]
    },
    {
     "cell_type": "heading",
     "level": 3,
     "metadata": {},
     "source": [
      "Marking Function"
     ]
    },
    {
     "cell_type": "markdown",
     "metadata": {},
     "source": [
      "Zeros is Good, Ones is Bad"
     ]
    },
    {
     "cell_type": "code",
     "collapsed": false,
     "input": [
      "# Swapped all x's and y's\n",
      "def fill_all_rects(results):\n",
      "    rects = []\n",
      "    cluster = 0;\n",
      "    w = 0\n",
      "    h = 0\n",
      "    for s in range(0,len(results)):\n",
      "        if w == 512:\n",
      "            w = 0\n",
      "            h = h + 16\n",
      "        if s >= 64 and s <= (len(results)-64):\n",
      "            cluster = results[s] + results[s+1] + results[s-1] + results[s-32] + results[s-31] + \\\n",
      "            results[s-33] + results[s+31] + results[s+32] + results[s+33]\n",
      "        if results[s] == 0:\n",
      "            w = w + 16\n",
      "        else:\n",
      "            if cluster < 3:\n",
      "                rects.append(Rectangle((h,w),16,16,alpha = .15, fc='none', ec='green'))\n",
      "            elif cluster < 7:\n",
      "                rects.append(Rectangle((h,w),16,16,alpha = .20, fc='none', ec='yellow'))\n",
      "            elif cluster < 10:\n",
      "                rects.append(Rectangle((h,w),16,16,alpha = .50, fc='none', ec='red'))\n",
      "            w = w + 16\n",
      "    return rects"
     ],
     "language": "python",
     "metadata": {},
     "outputs": [],
     "prompt_number": 3
    },
    {
     "cell_type": "markdown",
     "metadata": {},
     "source": [
      "Cycle through images"
     ]
    },
    {
     "cell_type": "code",
     "collapsed": false,
     "input": [
      "def on_press(event):\n",
      "    global index\n",
      "    global arr\n",
      "    if event.button == 'up' and index < 25:\n",
      "        index = index + 1;\n",
      "    elif event.button == 'up' and index == 25:\n",
      "        index = 0;\n",
      "    elif event.button == 'down' and index > 0:\n",
      "        index = index - 1;\n",
      "    elif event.button == 'down' and index == 0:\n",
      "        index = 25;\n",
      "    else:\n",
      "        print 'I\\'m broke!'\n",
      "        return\n",
      "    ax.cla()\n",
      "    ax.imshow(arr[index], cmap = 'gray', interpolation = 'bicubic')\n",
      "    ax.plot(0)\n",
      "    \n",
      "    toggle_selector.RS = RectangleSelector(ax, onselect, drawtype='box', useblit=True, rectprops=new_rectprops)\n",
      "    \n",
      "    currAxis = plt.gca()\n",
      "    for s in rects[index]:\n",
      "        currAxis.add_patch(s)\n",
      "    for s in ROIs[index][1]:\n",
      "        currAxis.add_patch(Rectangle(s[0],s[1],s[2],alpha = 1, fc='none', ec='green'))\n",
      "    for s in ROIs[index][0]:\n",
      "        currAxis.add_patch(Rectangle(s[0],s[1],s[2],alpha = 1, fc='none', ec='red'))\n",
      "    \n",
      "    ########################\n",
      "    gca().set_axis_off()\n",
      "    subplots_adjust(top = 1, bottom = 0, right = 1, left = 0, \n",
      "                hspace = 0, wspace = 0)\n",
      "    margins(0,0)\n",
      "    gca().xaxis.set_major_locator(NullLocator())\n",
      "    gca().yaxis.set_major_locator(NullLocator())\n",
      "    ########################\n",
      "    \n",
      "    fig.canvas.draw()"
     ],
     "language": "python",
     "metadata": {},
     "outputs": [],
     "prompt_number": 4
    },
    {
     "cell_type": "code",
     "collapsed": false,
     "input": [
      "def set_rectprops(event):\n",
      "    global new_rectprops\n",
      "    if event.button == 1:\n",
      "        new_rectprops = dict(facecolor='none', edgecolor='red',alpha = 0.75, fill=False)\n",
      "    elif event.button == 3:\n",
      "        new_rectprops = dict(facecolor='none', edgecolor='green',alpha = 0.75, fill=False)\n",
      "    else:\n",
      "        return"
     ],
     "language": "python",
     "metadata": {},
     "outputs": [],
     "prompt_number": 5
    },
    {
     "cell_type": "code",
     "collapsed": false,
     "input": [
      "def toggle_selector(event):\n",
      "    if event.key in ['Q', 'q'] and toggle_selector.RS.active:\n",
      "        print ' RectangleSelector deactivated.'\n",
      "        toggle_selector.RS.set_active(False)\n",
      "    if event.key in ['A', 'a'] and not toggle_selector.RS.active:\n",
      "        print ' RectangleSelector activated.'\n",
      "        toggle_selector.RS.set_active(True)"
     ],
     "language": "python",
     "metadata": {},
     "outputs": [],
     "prompt_number": 6
    },
    {
     "cell_type": "code",
     "collapsed": false,
     "input": [
      "def onselect(eclick, erelease):\n",
      "    global index\n",
      "    global startpos\n",
      "    global endpos\n",
      "    global new_rectprops\n",
      "    global size\n",
      "\n",
      "    startpos[index] = [eclick.xdata, eclick.ydata]\n",
      "    endpos[index]   = [erelease.xdata, erelease.ydata]\n",
      "    \n",
      "    width = (abs(startpos[index][0] - endpos[index][0])) - ((abs(startpos[index][0] - endpos[index][0])) % size) - 1\n",
      "    height = (abs(startpos[index][1] - endpos[index][1])) - ((abs(startpos[index][1] - endpos[index][1])) % size) - 1\n",
      "    xy = ((startpos[index][0],startpos[index][1]))\n",
      "    \n",
      "    currAxis = plt.gca()\n",
      "    if eclick.button == 1:\n",
      "        currAxis.add_patch(Rectangle(xy,width,height,alpha = 1, fc='none', ec='red'))\n",
      "        ROIs[index][0].append([xy, width, height])\n",
      "    elif eclick.button == 3:\n",
      "        currAxis.add_patch(Rectangle(xy,width,height,alpha = 1, fc='none', ec='green'))\n",
      "        ROIs[index][1].append([xy, width, height])\n",
      "    \n",
      "    fig.canvas.draw()"
     ],
     "language": "python",
     "metadata": {},
     "outputs": [],
     "prompt_number": 7
    },
    {
     "cell_type": "heading",
     "level": 3,
     "metadata": {},
     "source": [
      "Variable Declaration"
     ]
    },
    {
     "cell_type": "code",
     "collapsed": false,
     "input": [
      "rootdir=\"corrected\\\\\"\n",
      "arr = []\n",
      "size = 16\n",
      "index = 0\n",
      "ROIs = []\n",
      "moo = []\n",
      "startpos = np.zeros([26,2], dtype=int)\n",
      "endpos = np.zeros([26,2], dtype=int)\n",
      "new_rectprops = dict(facecolor='none', edgecolor='red',alpha = 0.75, fill=False)"
     ],
     "language": "python",
     "metadata": {},
     "outputs": [],
     "prompt_number": 8
    },
    {
     "cell_type": "heading",
     "level": 3,
     "metadata": {},
     "source": [
      "Load Pictures"
     ]
    },
    {
     "cell_type": "code",
     "collapsed": false,
     "input": [
      "for subdir, dirs, files in os.walk(rootdir):\n",
      "    for file in files:\n",
      "        file_names = os.path.join(subdir, file)\n",
      "        if os.stat(file_names).st_size == 0:\n",
      "            arr.append('1')\n",
      "        else:\n",
      "            arr.append(sio.loadmat(file_names)['p']);\n",
      "            ROIs.append(([],[]))\n",
      "            moo.append([0])"
     ],
     "language": "python",
     "metadata": {},
     "outputs": [],
     "prompt_number": 9
    },
    {
     "cell_type": "heading",
     "level": 3,
     "metadata": {},
     "source": [
      "Divide Image Into Predictable Chunks"
     ]
    },
    {
     "cell_type": "code",
     "collapsed": false,
     "input": [
      "sectioned_img = []\n",
      "\n",
      "for s in arr:\n",
      "    width  = len(s[0])\n",
      "    height = width\n",
      "    w = 0\n",
      "    h = 0\n",
      "    while h < (height):\n",
      "        while w < (width):\n",
      "            sectioned_img.append(s[w:w+size,h:h+size])\n",
      "            w = w + size\n",
      "        h = h + size\n",
      "        w = 0"
     ],
     "language": "python",
     "metadata": {},
     "outputs": [],
     "prompt_number": 10
    },
    {
     "cell_type": "heading",
     "level": 3,
     "metadata": {},
     "source": [
      "Preprocess the Image Chunks"
     ]
    },
    {
     "cell_type": "code",
     "collapsed": false,
     "input": [
      "min_max_scaler = preprocessing.MinMaxScaler(feature_range=(0,100), copy=False)\n",
      "new_X = [s.flatten() for s in sectioned_img]\n",
      "X_test = [s.astype(float32) for s in new_X]\n",
      "X = min_max_scaler.fit_transform(X_test)\n",
      "X = (X - np.min(X, 0)) / (np.max(X, 0) + 0.0001)"
     ],
     "language": "python",
     "metadata": {},
     "outputs": [],
     "prompt_number": 11
    },
    {
     "cell_type": "heading",
     "level": 3,
     "metadata": {},
     "source": [
      "Predict the Results"
     ]
    },
    {
     "cell_type": "code",
     "collapsed": false,
     "input": [
      "results = classifier.predict(X)\n",
      "results_prob = classifier.predict_proba(X)\n",
      "#for s in results_prob:\n",
      "#    if s[0] < 0.9:\n",
      "#        results.append(1)\n",
      "#    else:\n",
      "#        results.append(0)"
     ],
     "language": "python",
     "metadata": {},
     "outputs": [],
     "prompt_number": 12
    },
    {
     "cell_type": "heading",
     "level": 2,
     "metadata": {},
     "source": [
      "Plotting"
     ]
    },
    {
     "cell_type": "code",
     "collapsed": false,
     "input": [
      "rects = [];\n",
      "index = 0;\n",
      "start = 0;\n",
      "end   = 1024;\n",
      "for s in range(0,len(arr)):\n",
      "    rects.append(fill_all_rects(results[start:end]));\n",
      "    start = end;\n",
      "    end = end + 1024;"
     ],
     "language": "python",
     "metadata": {},
     "outputs": [],
     "prompt_number": 13
    },
    {
     "cell_type": "code",
     "collapsed": false,
     "input": [
      "fig = plt.figure()\n",
      "ax = fig.add_subplot(111)\n",
      "\n",
      "currAxis = plt.gca()\n",
      "\n",
      "for s in rects[index]:\n",
      "    currAxis.add_patch(s)\n",
      "\n",
      "plt.imshow(arr[index], cmap = 'gray')\n",
      "\n",
      "connect('key_press_event', set_rectprops)\n",
      "toggle_selector.RS = RectangleSelector(ax, onselect, drawtype='box', useblit=True, button=[1,3], rectprops=new_rectprops)\n",
      "connect('key_press_event', toggle_selector)\n",
      "connect('scroll_event', on_press)\n",
      "\n",
      "########################\n",
      "gca().set_axis_off()\n",
      "subplots_adjust(top = 1, bottom = 0, right = 1, left = 0, \n",
      "            hspace = 0, wspace = 0)\n",
      "margins(0,0)\n",
      "gca().xaxis.set_major_locator(NullLocator())\n",
      "gca().yaxis.set_major_locator(NullLocator())\n",
      "########################\n",
      "\n",
      "#fig.savefig('foo.png', bbox_inches='tight', pad_inches=0.0)\n",
      "plt.show()"
     ],
     "language": "python",
     "metadata": {},
     "outputs": [],
     "prompt_number": 14
    },
    {
     "cell_type": "code",
     "collapsed": false,
     "input": [
      "bad_images_ROIs = []\n",
      "good_images_ROIs = []\n",
      "for s in range(len(ROIs)):\n",
      "    if ROIs[s] != ([],[]) :\n",
      "        for j in range(len(ROIs[s][0])):\n",
      "            (x, y), width, height = ROIs[s][0][j]\n",
      "            w = x\n",
      "            h = y\n",
      "            while h < (x+width):\n",
      "                while w < (y+height):\n",
      "                    bad_images_ROIs.append(arr[s][w:w+size,h:h+size])\n",
      "                    w = w + size\n",
      "                h = h + size\n",
      "                w = y\n",
      "        for j in range(len(ROIs[s][1])):\n",
      "            (x, y), width, height = ROIs[s][1][j]\n",
      "            w = x\n",
      "            h = y\n",
      "            while h < (x+width):\n",
      "                while w < (y+height):\n",
      "                    good_images_ROIs.append(arr[s][w:w+size,h:h+size])\n",
      "                    w = w + size\n",
      "                h = h + size\n",
      "                w = y"
     ],
     "language": "python",
     "metadata": {},
     "outputs": [],
     "prompt_number": 15
    },
    {
     "cell_type": "heading",
     "level": 3,
     "metadata": {},
     "source": [
      "Export the Good ROIs and the Bad ROIs"
     ]
    },
    {
     "cell_type": "code",
     "collapsed": false,
     "input": [
      "np.save('bad_images.txt',  bad_images_ROIs)\n",
      "np.save('good_images.txt', good_images_ROIs)"
     ],
     "language": "python",
     "metadata": {},
     "outputs": [],
     "prompt_number": 16
    }
   ],
   "metadata": {}
  }
 ]
}