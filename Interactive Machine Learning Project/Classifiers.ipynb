{
 "metadata": {
  "name": "",
  "signature": "sha256:b2f0c27f507009566110334cbdf27b840aaef481c0558fe1d93f1a25829c5c39"
 },
 "nbformat": 3,
 "nbformat_minor": 0,
 "worksheets": [
  {
   "cells": [
    {
     "cell_type": "heading",
     "level": 1,
     "metadata": {},
     "source": [
      "Classifiers"
     ]
    },
    {
     "cell_type": "heading",
     "level": 2,
     "metadata": {},
     "source": [
      "Import"
     ]
    },
    {
     "cell_type": "markdown",
     "metadata": {},
     "source": [
      "<p>Using the following python libraries:\n",
      "<ul>\n",
      "<li>Image Processing Library: <a href =\"http://opencv.org/\">Open CV</a></li>\n",
      "<li>Scientific Computing Library: <a href =\"http://www.scipy.org/\">SciPy</a></li>\n",
      "<li>Numerical Computing Library: <a href=\"http://www.numpy.org/\">NumPy</a></li>\n",
      "<li>Plotting Library: <a href =\"http://matplotlib.org/\">MatPlotLib</a></li>\n",
      "<li>Accessory Library: <a href =\"http://wiki.scipy.org/PyLab\">PyLab</a></li>\n",
      "</ul>\n",
      "</p>"
     ]
    },
    {
     "cell_type": "code",
     "collapsed": false,
     "input": [
      "%matplotlib inline\n",
      "import os\n",
      "import cv2\n",
      "import pickle\n",
      "import cPickle\n",
      "\n",
      "import scipy.io as sio\n",
      "import numpy as np\n",
      "from matplotlib import pyplot as plt\n",
      "from matplotlib.widgets import RectangleSelector\n",
      "from matplotlib.patches import Rectangle\n",
      "from pylab import *\n",
      "from sklearn import preprocessing\n",
      "from sklearn.externals import joblib\n",
      "\n",
      "from scipy.ndimage import convolve\n",
      "from sklearn import linear_model, datasets, metrics\n",
      "from sklearn.cross_validation import train_test_split\n",
      "from sklearn.neural_network import BernoulliRBM\n",
      "from sklearn.pipeline import Pipeline\n",
      "\n",
      "from sklearn import svm\n",
      "from sklearn.naive_bayes import GaussianNB\n",
      "from sklearn import tree\n",
      "from sklearn.metrics import precision_recall_curve\n",
      "from sklearn.metrics import roc_curve, auc"
     ],
     "language": "python",
     "metadata": {},
     "outputs": [],
     "prompt_number": 1
    },
    {
     "cell_type": "code",
     "collapsed": false,
     "input": [
      "good_images_ROIs = np.load('good_images.npy')\n",
      "bad_images_ROIs = np.load('bad_images.npy')"
     ],
     "language": "python",
     "metadata": {},
     "outputs": [],
     "prompt_number": 2
    },
    {
     "cell_type": "code",
     "collapsed": false,
     "input": [
      "target = np.concatenate((np.zeros(len(good_images_ROIs), dtype=np.int),np.ones(len(bad_images_ROIs), dtype=np.int)), axis=0)"
     ],
     "language": "python",
     "metadata": {},
     "outputs": [],
     "prompt_number": 3
    },
    {
     "cell_type": "code",
     "collapsed": false,
     "input": [
      "X = np.concatenate((good_images_ROIs, bad_images_ROIs))"
     ],
     "language": "python",
     "metadata": {},
     "outputs": [],
     "prompt_number": 4
    },
    {
     "cell_type": "code",
     "collapsed": false,
     "input": [
      "new_X = [s.flatten() for s in X]"
     ],
     "language": "python",
     "metadata": {},
     "outputs": [],
     "prompt_number": 5
    },
    {
     "cell_type": "heading",
     "level": 2,
     "metadata": {},
     "source": [
      "Preprocessing the ROIs"
     ]
    },
    {
     "cell_type": "code",
     "collapsed": false,
     "input": [
      "min_max_scaler = preprocessing.MinMaxScaler(feature_range=(0,100), copy=False)"
     ],
     "language": "python",
     "metadata": {},
     "outputs": [],
     "prompt_number": 6
    },
    {
     "cell_type": "code",
     "collapsed": false,
     "input": [
      "X_test = [s.astype(float32) for s in new_X]"
     ],
     "language": "python",
     "metadata": {},
     "outputs": [],
     "prompt_number": 7
    },
    {
     "cell_type": "code",
     "collapsed": false,
     "input": [
      "X = min_max_scaler.fit_transform(X_test)"
     ],
     "language": "python",
     "metadata": {},
     "outputs": [],
     "prompt_number": 8
    },
    {
     "cell_type": "code",
     "collapsed": false,
     "input": [
      "size = 16"
     ],
     "language": "python",
     "metadata": {},
     "outputs": [],
     "prompt_number": 9
    },
    {
     "cell_type": "markdown",
     "metadata": {},
     "source": [
      "Nudge Dataset: "
     ]
    },
    {
     "cell_type": "code",
     "collapsed": false,
     "input": [
      "def nudge_dataset(X, Y):\n",
      "    \"\"\"\n",
      "    This produces a dataset 5 times bigger than the original one,\n",
      "    by moving the 8x8 images in X around by 1px to left, right, down, up\n",
      "    \"\"\"\n",
      "    global size\n",
      "    direction_vectors = [\n",
      "        [[0, 1, 0],\n",
      "         [0, 0, 0],\n",
      "         [0, 0, 0]],\n",
      "\n",
      "        [[0, 0, 0],\n",
      "         [1, 0, 0],\n",
      "         [0, 0, 0]],\n",
      "\n",
      "        [[0, 0, 0],\n",
      "         [0, 0, 1],\n",
      "         [0, 0, 0]],\n",
      "\n",
      "        [[0, 0, 0],\n",
      "         [0, 0, 0],\n",
      "         [0, 1, 0]]]\n",
      "\n",
      "    shift = lambda x, w: convolve(x.reshape((size, size)), mode='constant',\n",
      "                                  weights=w).ravel()\n",
      "    X = np.concatenate([X] +\n",
      "                       [np.apply_along_axis(shift, 1, X, vector)\n",
      "                        for vector in direction_vectors])\n",
      "    Y = np.concatenate([Y for _ in range(5)], axis=0)\n",
      "    return X, Y\n"
     ],
     "language": "python",
     "metadata": {},
     "outputs": [],
     "prompt_number": 10
    },
    {
     "cell_type": "code",
     "collapsed": false,
     "input": [
      "X, Y = nudge_dataset(X, target)\n",
      "X = (X - np.min(X, 0)) / (np.max(X, 0) + 0.0001)"
     ],
     "language": "python",
     "metadata": {},
     "outputs": [],
     "prompt_number": 11
    },
    {
     "cell_type": "code",
     "collapsed": false,
     "input": [
      "X_train, X_test, Y_train, Y_test = train_test_split(X, Y, test_size = 0.2, random_state=0)"
     ],
     "language": "python",
     "metadata": {},
     "outputs": [],
     "prompt_number": 12
    },
    {
     "cell_type": "heading",
     "level": 3,
     "metadata": {},
     "source": [
      "SVM Classifier"
     ]
    },
    {
     "cell_type": "code",
     "collapsed": false,
     "input": [
      "# SVM Model:\n",
      "SVMLearn = svm.SVC(probability=True)"
     ],
     "language": "python",
     "metadata": {},
     "outputs": [],
     "prompt_number": 13
    },
    {
     "cell_type": "heading",
     "level": 4,
     "metadata": {},
     "source": [
      "Naming the Feature Extractors and Pipelining"
     ]
    },
    {
     "cell_type": "code",
     "collapsed": false,
     "input": [
      "rbm = BernoulliRBM(random_state=0, verbose=True)\n",
      "rbm_2 = BernoulliRBM(random_state=0, verbose=True)\n",
      "\n",
      "classifier = Pipeline(steps=[('rbm', rbm), ('rbm_2', rbm_2), ('SVM', SVMLearn)])"
     ],
     "language": "python",
     "metadata": {},
     "outputs": [],
     "prompt_number": 14
    },
    {
     "cell_type": "heading",
     "level": 4,
     "metadata": {},
     "source": [
      "Training"
     ]
    },
    {
     "cell_type": "code",
     "collapsed": false,
     "input": [
      "###############################################################################\n",
      "# Training SVM\n",
      "\n",
      "# Hyper-parameters. These were set by cross-validation,\n",
      "# using a GridSearchCV. Here we are not performing cross-validation to\n",
      "# save time.\n",
      "rbm.learning_rate = 0.06\n",
      "rbm.n_iter = 20\n",
      "rbm_2.learning_rate = 0.06\n",
      "rbm_2.n_iter = 20\n",
      "# More components tend to give better prediction performance, but larger\n",
      "# fitting time\n",
      "# original = 100\n",
      "rbm.n_components = 256\n",
      "rbm_2.n_components = 256\n",
      "\n",
      "# Training RBM-SVM Pipeline\n",
      "classifier.fit(X_train, Y_train)\n",
      "\n",
      "# Training SVM\n",
      "SVM_classifier = svm.SVC(random_state=0)\n",
      "SVM_classifier.fit(X_train,Y_train)"
     ],
     "language": "python",
     "metadata": {},
     "outputs": [
      {
       "output_type": "stream",
       "stream": "stdout",
       "text": [
        "[BernoulliRBM] Iteration 1, pseudo-likelihood = -139.63, time = 1.18s\n",
        "[BernoulliRBM] Iteration 2, pseudo-likelihood = -138.75, time = 1.53s"
       ]
      },
      {
       "output_type": "stream",
       "stream": "stdout",
       "text": [
        "\n",
        "[BernoulliRBM] Iteration 3, pseudo-likelihood = -137.53, time = 1.45s"
       ]
      },
      {
       "output_type": "stream",
       "stream": "stdout",
       "text": [
        "\n",
        "[BernoulliRBM] Iteration 4, pseudo-likelihood = -136.41, time = 1.41s"
       ]
      },
      {
       "output_type": "stream",
       "stream": "stdout",
       "text": [
        "\n",
        "[BernoulliRBM] Iteration 5, pseudo-likelihood = -135.39, time = 1.42s"
       ]
      },
      {
       "output_type": "stream",
       "stream": "stdout",
       "text": [
        "\n",
        "[BernoulliRBM] Iteration 6, pseudo-likelihood = -134.94, time = 1.35s"
       ]
      },
      {
       "output_type": "stream",
       "stream": "stdout",
       "text": [
        "\n",
        "[BernoulliRBM] Iteration 7, pseudo-likelihood = -134.91, time = 1.36s"
       ]
      },
      {
       "output_type": "stream",
       "stream": "stdout",
       "text": [
        "\n",
        "[BernoulliRBM] Iteration 8, pseudo-likelihood = -136.59, time = 1.38s"
       ]
      },
      {
       "output_type": "stream",
       "stream": "stdout",
       "text": [
        "\n",
        "[BernoulliRBM] Iteration 9, pseudo-likelihood = -135.01, time = 1.39s"
       ]
      },
      {
       "output_type": "stream",
       "stream": "stdout",
       "text": [
        "\n",
        "[BernoulliRBM] Iteration 10, pseudo-likelihood = -134.27, time = 1.38s"
       ]
      },
      {
       "output_type": "stream",
       "stream": "stdout",
       "text": [
        "\n",
        "[BernoulliRBM] Iteration 11, pseudo-likelihood = -136.92, time = 1.36s"
       ]
      },
      {
       "output_type": "stream",
       "stream": "stdout",
       "text": [
        "\n",
        "[BernoulliRBM] Iteration 12, pseudo-likelihood = -136.08, time = 1.37s"
       ]
      },
      {
       "output_type": "stream",
       "stream": "stdout",
       "text": [
        "\n",
        "[BernoulliRBM] Iteration 13, pseudo-likelihood = -133.96, time = 1.34s"
       ]
      },
      {
       "output_type": "stream",
       "stream": "stdout",
       "text": [
        "\n",
        "[BernoulliRBM] Iteration 14, pseudo-likelihood = -134.48, time = 1.37s"
       ]
      },
      {
       "output_type": "stream",
       "stream": "stdout",
       "text": [
        "\n",
        "[BernoulliRBM] Iteration 15, pseudo-likelihood = -136.24, time = 1.40s"
       ]
      },
      {
       "output_type": "stream",
       "stream": "stdout",
       "text": [
        "\n",
        "[BernoulliRBM] Iteration 16, pseudo-likelihood = -135.79, time = 1.46s"
       ]
      },
      {
       "output_type": "stream",
       "stream": "stdout",
       "text": [
        "\n",
        "[BernoulliRBM] Iteration 17, pseudo-likelihood = -134.23, time = 1.35s"
       ]
      },
      {
       "output_type": "stream",
       "stream": "stdout",
       "text": [
        "\n",
        "[BernoulliRBM] Iteration 18, pseudo-likelihood = -134.94, time = 1.37s"
       ]
      },
      {
       "output_type": "stream",
       "stream": "stdout",
       "text": [
        "\n",
        "[BernoulliRBM] Iteration 19, pseudo-likelihood = -132.30, time = 1.39s"
       ]
      },
      {
       "output_type": "stream",
       "stream": "stdout",
       "text": [
        "\n",
        "[BernoulliRBM] Iteration 20, pseudo-likelihood = -135.90, time = 1.36s"
       ]
      },
      {
       "output_type": "stream",
       "stream": "stdout",
       "text": [
        "\n",
        "[BernoulliRBM] Iteration 1, pseudo-likelihood = -41.66, time = 1.07s"
       ]
      },
      {
       "output_type": "stream",
       "stream": "stdout",
       "text": [
        "\n",
        "[BernoulliRBM] Iteration 2, pseudo-likelihood = -40.34, time = 1.36s"
       ]
      },
      {
       "output_type": "stream",
       "stream": "stdout",
       "text": [
        "\n",
        "[BernoulliRBM] Iteration 3, pseudo-likelihood = -38.90, time = 1.33s"
       ]
      },
      {
       "output_type": "stream",
       "stream": "stdout",
       "text": [
        "\n",
        "[BernoulliRBM] Iteration 4, pseudo-likelihood = -39.08, time = 1.36s"
       ]
      },
      {
       "output_type": "stream",
       "stream": "stdout",
       "text": [
        "\n",
        "[BernoulliRBM] Iteration 5, pseudo-likelihood = -36.52, time = 1.35s"
       ]
      },
      {
       "output_type": "stream",
       "stream": "stdout",
       "text": [
        "\n",
        "[BernoulliRBM] Iteration 6, pseudo-likelihood = -39.60, time = 1.40s"
       ]
      },
      {
       "output_type": "stream",
       "stream": "stdout",
       "text": [
        "\n",
        "[BernoulliRBM] Iteration 7, pseudo-likelihood = -37.96, time = 1.40s"
       ]
      },
      {
       "output_type": "stream",
       "stream": "stdout",
       "text": [
        "\n",
        "[BernoulliRBM] Iteration 8, pseudo-likelihood = -37.64, time = 1.40s"
       ]
      },
      {
       "output_type": "stream",
       "stream": "stdout",
       "text": [
        "\n",
        "[BernoulliRBM] Iteration 9, pseudo-likelihood = -36.94, time = 1.37s"
       ]
      },
      {
       "output_type": "stream",
       "stream": "stdout",
       "text": [
        "\n",
        "[BernoulliRBM] Iteration 10, pseudo-likelihood = -38.25, time = 1.32s"
       ]
      },
      {
       "output_type": "stream",
       "stream": "stdout",
       "text": [
        "\n",
        "[BernoulliRBM] Iteration 11, pseudo-likelihood = -37.37, time = 1.37s"
       ]
      },
      {
       "output_type": "stream",
       "stream": "stdout",
       "text": [
        "\n",
        "[BernoulliRBM] Iteration 12, pseudo-likelihood = -38.65, time = 1.37s"
       ]
      },
      {
       "output_type": "stream",
       "stream": "stdout",
       "text": [
        "\n",
        "[BernoulliRBM] Iteration 13, pseudo-likelihood = -37.76, time = 1.40s"
       ]
      },
      {
       "output_type": "stream",
       "stream": "stdout",
       "text": [
        "\n",
        "[BernoulliRBM] Iteration 14, pseudo-likelihood = -38.48, time = 1.36s"
       ]
      },
      {
       "output_type": "stream",
       "stream": "stdout",
       "text": [
        "\n",
        "[BernoulliRBM] Iteration 15, pseudo-likelihood = -38.15, time = 1.29s"
       ]
      },
      {
       "output_type": "stream",
       "stream": "stdout",
       "text": [
        "\n",
        "[BernoulliRBM] Iteration 16, pseudo-likelihood = -36.56, time = 1.38s"
       ]
      },
      {
       "output_type": "stream",
       "stream": "stdout",
       "text": [
        "\n",
        "[BernoulliRBM] Iteration 17, pseudo-likelihood = -37.99, time = 1.34s"
       ]
      },
      {
       "output_type": "stream",
       "stream": "stdout",
       "text": [
        "\n",
        "[BernoulliRBM] Iteration 18, pseudo-likelihood = -38.72, time = 1.38s"
       ]
      },
      {
       "output_type": "stream",
       "stream": "stdout",
       "text": [
        "\n",
        "[BernoulliRBM] Iteration 19, pseudo-likelihood = -37.25, time = 1.38s"
       ]
      },
      {
       "output_type": "stream",
       "stream": "stdout",
       "text": [
        "\n",
        "[BernoulliRBM] Iteration 20, pseudo-likelihood = -38.35, time = 1.36s"
       ]
      },
      {
       "output_type": "stream",
       "stream": "stdout",
       "text": [
        "\n"
       ]
      },
      {
       "metadata": {},
       "output_type": "pyout",
       "prompt_number": 15,
       "text": [
        "SVC(C=1.0, cache_size=200, class_weight=None, coef0=0.0, degree=3, gamma=0.0,\n",
        "  kernel='rbf', max_iter=-1, probability=False, random_state=0,\n",
        "  shrinking=True, tol=0.001, verbose=False)"
       ]
      }
     ],
     "prompt_number": 15
    },
    {
     "cell_type": "heading",
     "level": 4,
     "metadata": {},
     "source": [
      "Evaluation"
     ]
    },
    {
     "cell_type": "code",
     "collapsed": false,
     "input": [
      "###############################################################################\n",
      "# Evaluation SVM\n",
      "\n",
      "print(\"SVM using RBM features:\\n%s\\n\" % (\n",
      "    metrics.classification_report(\n",
      "        Y_test,\n",
      "        classifier.predict(X_test))))\n",
      "\n",
      "print(\"SVM using raw pixel features:\\n%s\\n\" % (\n",
      "    metrics.classification_report(\n",
      "        Y_test,\n",
      "        SVM_classifier.predict(X_test))))"
     ],
     "language": "python",
     "metadata": {},
     "outputs": [
      {
       "output_type": "stream",
       "stream": "stdout",
       "text": [
        "SVM using RBM features:\n",
        "             precision    recall  f1-score   support\n",
        "\n",
        "          0       0.65      1.00      0.79      1137\n",
        "          1       0.00      0.00      0.00       600\n",
        "\n",
        "avg / total       0.43      0.65      0.52      1737\n",
        "\n",
        "\n",
        "SVM using raw pixel features:\n",
        "             precision    recall  f1-score   support\n",
        "\n",
        "          0       0.66      1.00      0.79      1137\n",
        "          1       0.79      0.02      0.04       600\n",
        "\n",
        "avg / total       0.70      0.66      0.53      1737\n",
        "\n"
       ]
      },
      {
       "output_type": "stream",
       "stream": "stdout",
       "text": [
        "\n"
       ]
      },
      {
       "output_type": "stream",
       "stream": "stderr",
       "text": [
        "C:\\Python27\\lib\\site-packages\\sklearn\\metrics\\metrics.py:1771: UndefinedMetricWarning: Precision and F-score are ill-defined and being set to 0.0 in labels with no predicted samples.\n",
        "  'precision', 'predicted', average, warn_for)\n"
       ]
      }
     ],
     "prompt_number": 16
    },
    {
     "cell_type": "code",
     "collapsed": false,
     "input": [
      "y_score = classifier.fit(X_train, Y_train).decision_function(X_test)\n",
      "precision_SVM, recall_SVM, _ = precision_recall_curve(Y_test, y_score)"
     ],
     "language": "python",
     "metadata": {},
     "outputs": [
      {
       "output_type": "stream",
       "stream": "stdout",
       "text": [
        "[BernoulliRBM] Iteration 1, pseudo-likelihood = -139.63, time = 1.17s\n",
        "[BernoulliRBM] Iteration 2, pseudo-likelihood = -138.75, time = 1.40s"
       ]
      },
      {
       "output_type": "stream",
       "stream": "stdout",
       "text": [
        "\n",
        "[BernoulliRBM] Iteration 3, pseudo-likelihood = -137.53, time = 1.37s"
       ]
      },
      {
       "output_type": "stream",
       "stream": "stdout",
       "text": [
        "\n",
        "[BernoulliRBM] Iteration 4, pseudo-likelihood = -136.41, time = 1.38s"
       ]
      },
      {
       "output_type": "stream",
       "stream": "stdout",
       "text": [
        "\n",
        "[BernoulliRBM] Iteration 5, pseudo-likelihood = -135.39, time = 1.37s"
       ]
      },
      {
       "output_type": "stream",
       "stream": "stdout",
       "text": [
        "\n",
        "[BernoulliRBM] Iteration 6, pseudo-likelihood = -134.94, time = 1.34s"
       ]
      },
      {
       "output_type": "stream",
       "stream": "stdout",
       "text": [
        "\n",
        "[BernoulliRBM] Iteration 7, pseudo-likelihood = -134.91, time = 1.40s"
       ]
      },
      {
       "output_type": "stream",
       "stream": "stdout",
       "text": [
        "\n",
        "[BernoulliRBM] Iteration 8, pseudo-likelihood = -136.59, time = 1.37s"
       ]
      },
      {
       "output_type": "stream",
       "stream": "stdout",
       "text": [
        "\n",
        "[BernoulliRBM] Iteration 9, pseudo-likelihood = -135.01, time = 1.37s"
       ]
      },
      {
       "output_type": "stream",
       "stream": "stdout",
       "text": [
        "\n",
        "[BernoulliRBM] Iteration 10, pseudo-likelihood = -134.27, time = 1.36s"
       ]
      },
      {
       "output_type": "stream",
       "stream": "stdout",
       "text": [
        "\n",
        "[BernoulliRBM] Iteration 11, pseudo-likelihood = -136.92, time = 1.37s"
       ]
      },
      {
       "output_type": "stream",
       "stream": "stdout",
       "text": [
        "\n",
        "[BernoulliRBM] Iteration 12, pseudo-likelihood = -136.08, time = 1.36s"
       ]
      },
      {
       "output_type": "stream",
       "stream": "stdout",
       "text": [
        "\n",
        "[BernoulliRBM] Iteration 13, pseudo-likelihood = -133.96, time = 1.36s"
       ]
      },
      {
       "output_type": "stream",
       "stream": "stdout",
       "text": [
        "\n",
        "[BernoulliRBM] Iteration 14, pseudo-likelihood = -134.48, time = 1.35s"
       ]
      },
      {
       "output_type": "stream",
       "stream": "stdout",
       "text": [
        "\n",
        "[BernoulliRBM] Iteration 15, pseudo-likelihood = -136.24, time = 1.33s"
       ]
      },
      {
       "output_type": "stream",
       "stream": "stdout",
       "text": [
        "\n",
        "[BernoulliRBM] Iteration 16, pseudo-likelihood = -135.79, time = 1.38s"
       ]
      },
      {
       "output_type": "stream",
       "stream": "stdout",
       "text": [
        "\n",
        "[BernoulliRBM] Iteration 17, pseudo-likelihood = -134.23, time = 1.38s"
       ]
      },
      {
       "output_type": "stream",
       "stream": "stdout",
       "text": [
        "\n",
        "[BernoulliRBM] Iteration 18, pseudo-likelihood = -134.94, time = 1.35s"
       ]
      },
      {
       "output_type": "stream",
       "stream": "stdout",
       "text": [
        "\n",
        "[BernoulliRBM] Iteration 19, pseudo-likelihood = -132.30, time = 1.39s"
       ]
      },
      {
       "output_type": "stream",
       "stream": "stdout",
       "text": [
        "\n",
        "[BernoulliRBM] Iteration 20, pseudo-likelihood = -135.90, time = 1.37s"
       ]
      },
      {
       "output_type": "stream",
       "stream": "stdout",
       "text": [
        "\n",
        "[BernoulliRBM] Iteration 1, pseudo-likelihood = -41.66, time = 1.11s"
       ]
      },
      {
       "output_type": "stream",
       "stream": "stdout",
       "text": [
        "\n",
        "[BernoulliRBM] Iteration 2, pseudo-likelihood = -40.34, time = 1.38s"
       ]
      },
      {
       "output_type": "stream",
       "stream": "stdout",
       "text": [
        "\n",
        "[BernoulliRBM] Iteration 3, pseudo-likelihood = -38.90, time = 1.34s"
       ]
      },
      {
       "output_type": "stream",
       "stream": "stdout",
       "text": [
        "\n",
        "[BernoulliRBM] Iteration 4, pseudo-likelihood = -39.08, time = 1.38s"
       ]
      },
      {
       "output_type": "stream",
       "stream": "stdout",
       "text": [
        "\n",
        "[BernoulliRBM] Iteration 5, pseudo-likelihood = -36.52, time = 1.41s"
       ]
      },
      {
       "output_type": "stream",
       "stream": "stdout",
       "text": [
        "\n",
        "[BernoulliRBM] Iteration 6, pseudo-likelihood = -39.60, time = 1.35s"
       ]
      },
      {
       "output_type": "stream",
       "stream": "stdout",
       "text": [
        "\n",
        "[BernoulliRBM] Iteration 7, pseudo-likelihood = -37.96, time = 1.40s"
       ]
      },
      {
       "output_type": "stream",
       "stream": "stdout",
       "text": [
        "\n",
        "[BernoulliRBM] Iteration 8, pseudo-likelihood = -37.64, time = 1.34s"
       ]
      },
      {
       "output_type": "stream",
       "stream": "stdout",
       "text": [
        "\n",
        "[BernoulliRBM] Iteration 9, pseudo-likelihood = -36.94, time = 1.33s"
       ]
      },
      {
       "output_type": "stream",
       "stream": "stdout",
       "text": [
        "\n",
        "[BernoulliRBM] Iteration 10, pseudo-likelihood = -38.25, time = 1.34s"
       ]
      },
      {
       "output_type": "stream",
       "stream": "stdout",
       "text": [
        "\n",
        "[BernoulliRBM] Iteration 11, pseudo-likelihood = -37.37, time = 1.35s"
       ]
      },
      {
       "output_type": "stream",
       "stream": "stdout",
       "text": [
        "\n",
        "[BernoulliRBM] Iteration 12, pseudo-likelihood = -38.65, time = 1.36s"
       ]
      },
      {
       "output_type": "stream",
       "stream": "stdout",
       "text": [
        "\n",
        "[BernoulliRBM] Iteration 13, pseudo-likelihood = -37.76, time = 1.35s"
       ]
      },
      {
       "output_type": "stream",
       "stream": "stdout",
       "text": [
        "\n",
        "[BernoulliRBM] Iteration 14, pseudo-likelihood = -38.48, time = 1.35s"
       ]
      },
      {
       "output_type": "stream",
       "stream": "stdout",
       "text": [
        "\n",
        "[BernoulliRBM] Iteration 15, pseudo-likelihood = -38.15, time = 1.35s"
       ]
      },
      {
       "output_type": "stream",
       "stream": "stdout",
       "text": [
        "\n",
        "[BernoulliRBM] Iteration 16, pseudo-likelihood = -36.56, time = 1.38s"
       ]
      },
      {
       "output_type": "stream",
       "stream": "stdout",
       "text": [
        "\n",
        "[BernoulliRBM] Iteration 17, pseudo-likelihood = -37.99, time = 1.35s"
       ]
      },
      {
       "output_type": "stream",
       "stream": "stdout",
       "text": [
        "\n",
        "[BernoulliRBM] Iteration 18, pseudo-likelihood = -38.72, time = 1.34s"
       ]
      },
      {
       "output_type": "stream",
       "stream": "stdout",
       "text": [
        "\n",
        "[BernoulliRBM] Iteration 19, pseudo-likelihood = -37.25, time = 1.34s"
       ]
      },
      {
       "output_type": "stream",
       "stream": "stdout",
       "text": [
        "\n",
        "[BernoulliRBM] Iteration 20, pseudo-likelihood = -38.35, time = 1.35s"
       ]
      },
      {
       "output_type": "stream",
       "stream": "stdout",
       "text": [
        "\n"
       ]
      }
     ],
     "prompt_number": 17
    },
    {
     "cell_type": "heading",
     "level": 4,
     "metadata": {},
     "source": [
      "Precision-Recall"
     ]
    },
    {
     "cell_type": "code",
     "collapsed": false,
     "input": [
      "# Plot Precision-Recall curve\n",
      "plt.clf()\n",
      "plt.plot(recall_SVM, precision_SVM, label='Precision-Recall curve')\n",
      "plt.xlabel('Recall')\n",
      "plt.ylabel('Precision')\n",
      "plt.ylim([0.0, 1.05])\n",
      "plt.xlim([0.0, 1.0])\n",
      "#plt.title('Precision-Recall example: AUC={0:0.2f}'.format(average_precision[0]))\n",
      "plt.legend(loc=\"lower left\")\n",
      "plt.show()"
     ],
     "language": "python",
     "metadata": {},
     "outputs": [
      {
       "metadata": {},
       "output_type": "display_data",
       "png": "[encoded data removed]",
       "text": [
        "<matplotlib.figure.Figure at 0x16c32da0>"
       ]
      }
     ],
     "prompt_number": 18
    },
    {
     "cell_type": "code",
     "collapsed": false,
     "input": [
      "fpr, tpr, _ = roc_curve(Y_test, y_score)\n",
      "roc_auc = auc(fpr, tpr)"
     ],
     "language": "python",
     "metadata": {},
     "outputs": [],
     "prompt_number": 19
    },
    {
     "cell_type": "heading",
     "level": 4,
     "metadata": {},
     "source": [
      "ROC-AUC"
     ]
    },
    {
     "cell_type": "code",
     "collapsed": false,
     "input": [
      "# Plot of a ROC curve for a specific class\n",
      "plt.figure()\n",
      "plt.plot(fpr, tpr, label='ROC curve (area = %0.2f)' % roc_auc)\n",
      "plt.plot([0, 1], [0, 1], 'k--')\n",
      "plt.xlim([0.0, 1.0])\n",
      "plt.ylim([0.0, 1.05])\n",
      "plt.xlabel('False Positive Rate')\n",
      "plt.ylabel('True Positive Rate')\n",
      "plt.title('Receiver operating characteristic example')\n",
      "plt.legend(loc=\"lower right\")\n",
      "plt.show()"
     ],
     "language": "python",
     "metadata": {},
     "outputs": [
      {
       "metadata": {},
       "output_type": "display_data",
       "png": "[encoded data removed]",
       "text": [
        "<matplotlib.figure.Figure at 0x22e14208>"
       ]
      }
     ],
     "prompt_number": 20
    },
    {
     "cell_type": "code",
     "collapsed": false,
     "input": [
      "#Saving metrics to a txt file\n",
      "accs = []\n",
      "file = open('SVM_accuracy.txt', 'w')\n",
      "accs.append(metrics.accuracy_score(Y_test, classifier.predict(X_test)))\n",
      "pickle.dump(accs[0], file)\n",
      "with open('NN_LR1.pkl', 'wb') as fid:\n",
      "    cPickle.dump(classifier, fid)\n",
      "file.close()"
     ],
     "language": "python",
     "metadata": {},
     "outputs": [],
     "prompt_number": 21
    },
    {
     "cell_type": "heading",
     "level": 3,
     "metadata": {},
     "source": [
      "Naive Bayes Gaussian"
     ]
    },
    {
     "cell_type": "code",
     "collapsed": false,
     "input": [
      "# Naive Bayes (Gaussian kernel)\n",
      "NBGauss = GaussianNB()"
     ],
     "language": "python",
     "metadata": {},
     "outputs": [],
     "prompt_number": 22
    },
    {
     "cell_type": "heading",
     "level": 4,
     "metadata": {},
     "source": [
      "Naming the Feature Extractors and Pipelining"
     ]
    },
    {
     "cell_type": "code",
     "collapsed": false,
     "input": [
      "rbm = BernoulliRBM(random_state=0, verbose=True)\n",
      "rbm_2 = BernoulliRBM(random_state=0, verbose=True)\n",
      "\n",
      "classifier = Pipeline(steps=[('rbm', rbm), ('rbm_2', rbm_2), ('Naive Bayes', NBGauss)])"
     ],
     "language": "python",
     "metadata": {},
     "outputs": [],
     "prompt_number": 23
    },
    {
     "cell_type": "heading",
     "level": 4,
     "metadata": {},
     "source": [
      "Training"
     ]
    },
    {
     "cell_type": "code",
     "collapsed": false,
     "input": [
      "###############################################################################\n",
      "# Training Naive Bayes\n",
      "\n",
      "# Hyper-parameters. These were set by cross-validation,\n",
      "# using a GridSearchCV. Here we are not performing cross-validation to\n",
      "# save time.\n",
      "rbm.learning_rate = 0.06\n",
      "rbm.n_iter = 20\n",
      "rbm_2.learning_rate = 0.06\n",
      "rbm_2.n_iter = 20\n",
      "# More components tend to give better prediction performance, but larger\n",
      "# fitting time\n",
      "# original = 100\n",
      "rbm.n_components = 256\n",
      "rbm_2.n_components = 256\n",
      "\n",
      "# Training RBM-Logistic Pipeline\n",
      "classifier.fit(X_train, Y_train)\n",
      "\n",
      "# Training Naive Bayes\n",
      "GaussianNB_classifier = GaussianNB()\n",
      "GaussianNB_classifier.fit(X_train, Y_train)"
     ],
     "language": "python",
     "metadata": {},
     "outputs": [
      {
       "output_type": "stream",
       "stream": "stdout",
       "text": [
        "[BernoulliRBM] Iteration 1, pseudo-likelihood = -139.63, time = 1.09s\n",
        "[BernoulliRBM] Iteration 2, pseudo-likelihood = -138.75, time = 1.40s"
       ]
      },
      {
       "output_type": "stream",
       "stream": "stdout",
       "text": [
        "\n",
        "[BernoulliRBM] Iteration 3, pseudo-likelihood = -137.53, time = 1.41s"
       ]
      },
      {
       "output_type": "stream",
       "stream": "stdout",
       "text": [
        "\n",
        "[BernoulliRBM] Iteration 4, pseudo-likelihood = -136.41, time = 1.39s"
       ]
      },
      {
       "output_type": "stream",
       "stream": "stdout",
       "text": [
        "\n",
        "[BernoulliRBM] Iteration 5, pseudo-likelihood = -135.39, time = 1.39s"
       ]
      },
      {
       "output_type": "stream",
       "stream": "stdout",
       "text": [
        "\n",
        "[BernoulliRBM] Iteration 6, pseudo-likelihood = -134.94, time = 1.40s"
       ]
      },
      {
       "output_type": "stream",
       "stream": "stdout",
       "text": [
        "\n",
        "[BernoulliRBM] Iteration 7, pseudo-likelihood = -134.91, time = 1.45s"
       ]
      },
      {
       "output_type": "stream",
       "stream": "stdout",
       "text": [
        "\n",
        "[BernoulliRBM] Iteration 8, pseudo-likelihood = -136.59, time = 1.47s"
       ]
      },
      {
       "output_type": "stream",
       "stream": "stdout",
       "text": [
        "\n",
        "[BernoulliRBM] Iteration 9, pseudo-likelihood = -135.01, time = 1.46s"
       ]
      },
      {
       "output_type": "stream",
       "stream": "stdout",
       "text": [
        "\n",
        "[BernoulliRBM] Iteration 10, pseudo-likelihood = -134.27, time = 1.65s"
       ]
      },
      {
       "output_type": "stream",
       "stream": "stdout",
       "text": [
        "\n",
        "[BernoulliRBM] Iteration 11, pseudo-likelihood = -136.92, time = 1.92s"
       ]
      },
      {
       "output_type": "stream",
       "stream": "stdout",
       "text": [
        "\n",
        "[BernoulliRBM] Iteration 12, pseudo-likelihood = -136.08, time = 1.91s"
       ]
      },
      {
       "output_type": "stream",
       "stream": "stdout",
       "text": [
        "\n",
        "[BernoulliRBM] Iteration 13, pseudo-likelihood = -133.96, time = 1.68s"
       ]
      },
      {
       "output_type": "stream",
       "stream": "stdout",
       "text": [
        "\n",
        "[BernoulliRBM] Iteration 14, pseudo-likelihood = -134.48, time = 1.56s"
       ]
      },
      {
       "output_type": "stream",
       "stream": "stdout",
       "text": [
        "\n",
        "[BernoulliRBM] Iteration 15, pseudo-likelihood = -136.24, time = 1.57s"
       ]
      },
      {
       "output_type": "stream",
       "stream": "stdout",
       "text": [
        "\n",
        "[BernoulliRBM] Iteration 16, pseudo-likelihood = -135.79, time = 1.56s"
       ]
      },
      {
       "output_type": "stream",
       "stream": "stdout",
       "text": [
        "\n",
        "[BernoulliRBM] Iteration 17, pseudo-likelihood = -134.23, time = 1.56s"
       ]
      },
      {
       "output_type": "stream",
       "stream": "stdout",
       "text": [
        "\n",
        "[BernoulliRBM] Iteration 18, pseudo-likelihood = -134.94, time = 1.58s"
       ]
      },
      {
       "output_type": "stream",
       "stream": "stdout",
       "text": [
        "\n",
        "[BernoulliRBM] Iteration 19, pseudo-likelihood = -132.30, time = 1.55s"
       ]
      },
      {
       "output_type": "stream",
       "stream": "stdout",
       "text": [
        "\n",
        "[BernoulliRBM] Iteration 20, pseudo-likelihood = -135.90, time = 1.57s"
       ]
      },
      {
       "output_type": "stream",
       "stream": "stdout",
       "text": [
        "\n",
        "[BernoulliRBM] Iteration 1, pseudo-likelihood = -41.66, time = 1.30s"
       ]
      },
      {
       "output_type": "stream",
       "stream": "stdout",
       "text": [
        "\n",
        "[BernoulliRBM] Iteration 2, pseudo-likelihood = -40.34, time = 1.56s"
       ]
      },
      {
       "output_type": "stream",
       "stream": "stdout",
       "text": [
        "\n",
        "[BernoulliRBM] Iteration 3, pseudo-likelihood = -38.90, time = 1.60s"
       ]
      },
      {
       "output_type": "stream",
       "stream": "stdout",
       "text": [
        "\n",
        "[BernoulliRBM] Iteration 4, pseudo-likelihood = -39.08, time = 1.59s"
       ]
      },
      {
       "output_type": "stream",
       "stream": "stdout",
       "text": [
        "\n",
        "[BernoulliRBM] Iteration 5, pseudo-likelihood = -36.52, time = 1.55s"
       ]
      },
      {
       "output_type": "stream",
       "stream": "stdout",
       "text": [
        "\n",
        "[BernoulliRBM] Iteration 6, pseudo-likelihood = -39.60, time = 1.60s"
       ]
      },
      {
       "output_type": "stream",
       "stream": "stdout",
       "text": [
        "\n",
        "[BernoulliRBM] Iteration 7, pseudo-likelihood = -37.96, time = 1.56s"
       ]
      },
      {
       "output_type": "stream",
       "stream": "stdout",
       "text": [
        "\n",
        "[BernoulliRBM] Iteration 8, pseudo-likelihood = -37.64, time = 1.60s"
       ]
      },
      {
       "output_type": "stream",
       "stream": "stdout",
       "text": [
        "\n",
        "[BernoulliRBM] Iteration 9, pseudo-likelihood = -36.94, time = 1.57s"
       ]
      },
      {
       "output_type": "stream",
       "stream": "stdout",
       "text": [
        "\n",
        "[BernoulliRBM] Iteration 10, pseudo-likelihood = -38.25, time = 1.70s"
       ]
      },
      {
       "output_type": "stream",
       "stream": "stdout",
       "text": [
        "\n",
        "[BernoulliRBM] Iteration 11, pseudo-likelihood = -37.37, time = 1.57s"
       ]
      },
      {
       "output_type": "stream",
       "stream": "stdout",
       "text": [
        "\n",
        "[BernoulliRBM] Iteration 12, pseudo-likelihood = -38.65, time = 1.62s"
       ]
      },
      {
       "output_type": "stream",
       "stream": "stdout",
       "text": [
        "\n",
        "[BernoulliRBM] Iteration 13, pseudo-likelihood = -37.76, time = 1.78s"
       ]
      },
      {
       "output_type": "stream",
       "stream": "stdout",
       "text": [
        "\n",
        "[BernoulliRBM] Iteration 14, pseudo-likelihood = -38.48, time = 1.67s"
       ]
      },
      {
       "output_type": "stream",
       "stream": "stdout",
       "text": [
        "\n",
        "[BernoulliRBM] Iteration 15, pseudo-likelihood = -38.15, time = 1.64s"
       ]
      },
      {
       "output_type": "stream",
       "stream": "stdout",
       "text": [
        "\n",
        "[BernoulliRBM] Iteration 16, pseudo-likelihood = -36.56, time = 1.59s"
       ]
      },
      {
       "output_type": "stream",
       "stream": "stdout",
       "text": [
        "\n",
        "[BernoulliRBM] Iteration 17, pseudo-likelihood = -37.99, time = 1.58s"
       ]
      },
      {
       "output_type": "stream",
       "stream": "stdout",
       "text": [
        "\n",
        "[BernoulliRBM] Iteration 18, pseudo-likelihood = -38.72, time = 1.60s"
       ]
      },
      {
       "output_type": "stream",
       "stream": "stdout",
       "text": [
        "\n",
        "[BernoulliRBM] Iteration 19, pseudo-likelihood = -37.25, time = 1.59s"
       ]
      },
      {
       "output_type": "stream",
       "stream": "stdout",
       "text": [
        "\n",
        "[BernoulliRBM] Iteration 20, pseudo-likelihood = -38.35, time = 1.59s"
       ]
      },
      {
       "output_type": "stream",
       "stream": "stdout",
       "text": [
        "\n"
       ]
      },
      {
       "metadata": {},
       "output_type": "pyout",
       "prompt_number": 24,
       "text": [
        "GaussianNB()"
       ]
      }
     ],
     "prompt_number": 24
    },
    {
     "cell_type": "heading",
     "level": 4,
     "metadata": {},
     "source": [
      "Evaluation"
     ]
    },
    {
     "cell_type": "code",
     "collapsed": false,
     "input": [
      "###############################################################################\n",
      "# Evaluation Naive Bayes Gaussian\n",
      "\n",
      "print(\"Naive Bayes using RBM features:\\n%s\\n\" % (\n",
      "    metrics.classification_report(\n",
      "        Y_test,\n",
      "        classifier.predict(X_test))))\n",
      "\n",
      "print(\"Naive Bayes using raw pixel features:\\n%s\\n\" % (\n",
      "    metrics.classification_report(\n",
      "        Y_test,\n",
      "        GaussianNB_classifier.predict(X_test))))"
     ],
     "language": "python",
     "metadata": {},
     "outputs": [
      {
       "output_type": "stream",
       "stream": "stdout",
       "text": [
        "Naive Bayes using RBM features:\n",
        "             precision    recall  f1-score   support\n",
        "\n",
        "          0       0.76      0.67      0.71      1137\n",
        "          1       0.49      0.59      0.53       600\n",
        "\n",
        "avg / total       0.66      0.64      0.65      1737\n",
        "\n",
        "\n",
        "Naive Bayes using raw pixel features:\n",
        "             precision    recall  f1-score   support\n",
        "\n",
        "          0       0.72      0.51      0.60      1137\n",
        "          1       0.40      0.63      0.49       600\n",
        "\n",
        "avg / total       0.61      0.55      0.56      1737\n",
        "\n",
        "\n"
       ]
      }
     ],
     "prompt_number": 25
    },
    {
     "cell_type": "code",
     "collapsed": false,
     "input": [
      "y_score = classifier.predict_proba(X_test)"
     ],
     "language": "python",
     "metadata": {},
     "outputs": [],
     "prompt_number": 26
    },
    {
     "cell_type": "code",
     "collapsed": false,
     "input": [
      "precision_GNB, recall_GNB, _ = precision_recall_curve(Y_test, y_score[:,1])\n",
      "fpr, tpr, _ = roc_curve(Y_test, y_score[:,1])\n",
      "roc_auc = auc(fpr, tpr)"
     ],
     "language": "python",
     "metadata": {},
     "outputs": [],
     "prompt_number": 27
    },
    {
     "cell_type": "heading",
     "level": 4,
     "metadata": {},
     "source": [
      "Precision-Recall"
     ]
    },
    {
     "cell_type": "code",
     "collapsed": false,
     "input": [
      "# Plot Precision-Recall curve\n",
      "plt.clf()\n",
      "plt.plot(recall_GNB, precision_GNB, label='Precision-Recall curve')\n",
      "plt.xlabel('Recall')\n",
      "plt.ylabel('Precision')\n",
      "plt.ylim([0.0, 1.05])\n",
      "plt.xlim([0.0, 1.0])\n",
      "#plt.title('Precision-Recall example: AUC={0:0.2f}'.format(average_precision[0]))\n",
      "plt.legend(loc=\"lower left\")\n",
      "plt.show()"
     ],
     "language": "python",
     "metadata": {},
     "outputs": [
      {
       "metadata": {},
       "output_type": "display_data",
       "png": "[encoded data removed]",
       "text": [
        "<matplotlib.figure.Figure at 0x22e14358>"
       ]
      }
     ],
     "prompt_number": 28
    },
    {
     "cell_type": "heading",
     "level": 4,
     "metadata": {},
     "source": [
      "ROC-AUC"
     ]
    },
    {
     "cell_type": "code",
     "collapsed": false,
     "input": [
      "# Plot of a ROC curve for a specific class\n",
      "plt.figure()\n",
      "plt.plot(fpr, tpr, label='ROC curve (area = %0.2f)' % roc_auc)\n",
      "plt.plot([0, 1], [0, 1], 'k--')\n",
      "plt.xlim([0.0, 1.0])\n",
      "plt.ylim([0.0, 1.05])\n",
      "plt.xlabel('False Positive Rate')\n",
      "plt.ylabel('True Positive Rate')\n",
      "plt.title('Receiver operating characteristic example')\n",
      "plt.legend(loc=\"lower right\")\n",
      "plt.show()"
     ],
     "language": "python",
     "metadata": {},
     "outputs": [
      {
       "metadata": {},
       "output_type": "display_data",
       "png": "[encoded data removed]",
       "text": [
        "<matplotlib.figure.Figure at 0x22e14128>"
       ]
      }
     ],
     "prompt_number": 29
    },
    {
     "cell_type": "code",
     "collapsed": false,
     "input": [
      "# Save the precision calculations as variable\n",
      "#Saving metrics to a txt file\n",
      "file = open('NB_accuracy.txt', 'w')\n",
      "accs.append(metrics.accuracy_score(Y_test, classifier.predict(X_test)))\n",
      "if accs[1] > accs[0]:\n",
      "    with open('NN_LR1.pkl', 'wb') as fid:\n",
      "        cPickle.dump(classifier, fid)\n",
      "pickle.dump(accs[1], file)\n",
      "file.close()"
     ],
     "language": "python",
     "metadata": {},
     "outputs": [],
     "prompt_number": 30
    },
    {
     "cell_type": "heading",
     "level": 3,
     "metadata": {},
     "source": [
      "Decision Tree"
     ]
    },
    {
     "cell_type": "code",
     "collapsed": false,
     "input": [
      "# Decision Tree\n",
      "DTree = tree.DecisionTreeClassifier(random_state=0)"
     ],
     "language": "python",
     "metadata": {},
     "outputs": [],
     "prompt_number": 31
    },
    {
     "cell_type": "heading",
     "level": 4,
     "metadata": {},
     "source": [
      "Naming the Feature Extractors and Pipelining"
     ]
    },
    {
     "cell_type": "code",
     "collapsed": false,
     "input": [
      "rbm = BernoulliRBM(random_state=0, verbose=True)\n",
      "rbm_2 = BernoulliRBM(random_state=0, verbose=True)\n",
      "\n",
      "classifier = Pipeline(steps=[('rbm', rbm), ('rbm_2', rbm_2), ('DTree', DTree)])"
     ],
     "language": "python",
     "metadata": {},
     "outputs": [],
     "prompt_number": 32
    },
    {
     "cell_type": "heading",
     "level": 4,
     "metadata": {},
     "source": [
      "Training"
     ]
    },
    {
     "cell_type": "code",
     "collapsed": false,
     "input": [
      "###############################################################################\n",
      "# Training DTree\n",
      "\n",
      "# Hyper-parameters. These were set by cross-validation,\n",
      "# using a GridSearchCV. Here we are not performing cross-validation to\n",
      "# save time.\n",
      "rbm.learning_rate = 0.06\n",
      "rbm.n_iter = 20\n",
      "rbm_2.learning_rate = 0.06\n",
      "rbm_2.n_iter = 20\n",
      "# More components tend to give better prediction performance, but larger\n",
      "# fitting time\n",
      "# original = 100\n",
      "rbm.n_components = 256\n",
      "rbm_2.n_components = 256\n",
      "\n",
      "# Training RBM-Logistic Pipeline\n",
      "classifier.fit(X_train, Y_train)\n",
      "\n",
      "# Training Decision Tree\n",
      "DTree_classifier = tree.DecisionTreeClassifier(random_state=0)\n",
      "DTree_classifier.fit(X_train,Y_train)"
     ],
     "language": "python",
     "metadata": {},
     "outputs": [
      {
       "output_type": "stream",
       "stream": "stdout",
       "text": [
        "[BernoulliRBM] Iteration 1, pseudo-likelihood = -139.63, time = 1.26s\n",
        "[BernoulliRBM] Iteration 2, pseudo-likelihood = -138.75, time = 1.65s"
       ]
      },
      {
       "output_type": "stream",
       "stream": "stdout",
       "text": [
        "\n",
        "[BernoulliRBM] Iteration 3, pseudo-likelihood = -137.53, time = 1.65s"
       ]
      },
      {
       "output_type": "stream",
       "stream": "stdout",
       "text": [
        "\n",
        "[BernoulliRBM] Iteration 4, pseudo-likelihood = -136.41, time = 1.57s"
       ]
      },
      {
       "output_type": "stream",
       "stream": "stdout",
       "text": [
        "\n",
        "[BernoulliRBM] Iteration 5, pseudo-likelihood = -135.39, time = 1.58s"
       ]
      },
      {
       "output_type": "stream",
       "stream": "stdout",
       "text": [
        "\n",
        "[BernoulliRBM] Iteration 6, pseudo-likelihood = -134.94, time = 1.63s"
       ]
      },
      {
       "output_type": "stream",
       "stream": "stdout",
       "text": [
        "\n",
        "[BernoulliRBM] Iteration 7, pseudo-likelihood = -134.91, time = 1.79s"
       ]
      },
      {
       "output_type": "stream",
       "stream": "stdout",
       "text": [
        "\n",
        "[BernoulliRBM] Iteration 8, pseudo-likelihood = -136.59, time = 1.67s"
       ]
      },
      {
       "output_type": "stream",
       "stream": "stdout",
       "text": [
        "\n",
        "[BernoulliRBM] Iteration 9, pseudo-likelihood = -135.01, time = 1.56s"
       ]
      },
      {
       "output_type": "stream",
       "stream": "stdout",
       "text": [
        "\n",
        "[BernoulliRBM] Iteration 10, pseudo-likelihood = -134.27, time = 1.57s"
       ]
      },
      {
       "output_type": "stream",
       "stream": "stdout",
       "text": [
        "\n",
        "[BernoulliRBM] Iteration 11, pseudo-likelihood = -136.92, time = 1.62s"
       ]
      },
      {
       "output_type": "stream",
       "stream": "stdout",
       "text": [
        "\n",
        "[BernoulliRBM] Iteration 12, pseudo-likelihood = -136.08, time = 1.59s"
       ]
      },
      {
       "output_type": "stream",
       "stream": "stdout",
       "text": [
        "\n",
        "[BernoulliRBM] Iteration 13, pseudo-likelihood = -133.96, time = 1.55s"
       ]
      },
      {
       "output_type": "stream",
       "stream": "stdout",
       "text": [
        "\n",
        "[BernoulliRBM] Iteration 14, pseudo-likelihood = -134.48, time = 1.54s"
       ]
      },
      {
       "output_type": "stream",
       "stream": "stdout",
       "text": [
        "\n",
        "[BernoulliRBM] Iteration 15, pseudo-likelihood = -136.24, time = 1.64s"
       ]
      },
      {
       "output_type": "stream",
       "stream": "stdout",
       "text": [
        "\n",
        "[BernoulliRBM] Iteration 16, pseudo-likelihood = -135.79, time = 1.50s"
       ]
      },
      {
       "output_type": "stream",
       "stream": "stdout",
       "text": [
        "\n",
        "[BernoulliRBM] Iteration 17, pseudo-likelihood = -134.23, time = 1.60s"
       ]
      },
      {
       "output_type": "stream",
       "stream": "stdout",
       "text": [
        "\n",
        "[BernoulliRBM] Iteration 18, pseudo-likelihood = -134.94, time = 1.61s"
       ]
      },
      {
       "output_type": "stream",
       "stream": "stdout",
       "text": [
        "\n",
        "[BernoulliRBM] Iteration 19, pseudo-likelihood = -132.30, time = 1.75s"
       ]
      },
      {
       "output_type": "stream",
       "stream": "stdout",
       "text": [
        "\n",
        "[BernoulliRBM] Iteration 20, pseudo-likelihood = -135.90, time = 1.67s"
       ]
      },
      {
       "output_type": "stream",
       "stream": "stdout",
       "text": [
        "\n",
        "[BernoulliRBM] Iteration 1, pseudo-likelihood = -41.66, time = 1.30s"
       ]
      },
      {
       "output_type": "stream",
       "stream": "stdout",
       "text": [
        "\n",
        "[BernoulliRBM] Iteration 2, pseudo-likelihood = -40.34, time = 1.62s"
       ]
      },
      {
       "output_type": "stream",
       "stream": "stdout",
       "text": [
        "\n",
        "[BernoulliRBM] Iteration 3, pseudo-likelihood = -38.90, time = 1.59s"
       ]
      },
      {
       "output_type": "stream",
       "stream": "stdout",
       "text": [
        "\n",
        "[BernoulliRBM] Iteration 4, pseudo-likelihood = -39.08, time = 1.61s"
       ]
      },
      {
       "output_type": "stream",
       "stream": "stdout",
       "text": [
        "\n",
        "[BernoulliRBM] Iteration 5, pseudo-likelihood = -36.52, time = 1.62s"
       ]
      },
      {
       "output_type": "stream",
       "stream": "stdout",
       "text": [
        "\n",
        "[BernoulliRBM] Iteration 6, pseudo-likelihood = -39.60, time = 1.58s"
       ]
      },
      {
       "output_type": "stream",
       "stream": "stdout",
       "text": [
        "\n",
        "[BernoulliRBM] Iteration 7, pseudo-likelihood = -37.96, time = 1.67s"
       ]
      },
      {
       "output_type": "stream",
       "stream": "stdout",
       "text": [
        "\n",
        "[BernoulliRBM] Iteration 8, pseudo-likelihood = -37.64, time = 1.80s"
       ]
      },
      {
       "output_type": "stream",
       "stream": "stdout",
       "text": [
        "\n",
        "[BernoulliRBM] Iteration 9, pseudo-likelihood = -36.94, time = 1.75s"
       ]
      },
      {
       "output_type": "stream",
       "stream": "stdout",
       "text": [
        "\n",
        "[BernoulliRBM] Iteration 10, pseudo-likelihood = -38.25, time = 1.70s"
       ]
      },
      {
       "output_type": "stream",
       "stream": "stdout",
       "text": [
        "\n",
        "[BernoulliRBM] Iteration 11, pseudo-likelihood = -37.37, time = 1.73s"
       ]
      },
      {
       "output_type": "stream",
       "stream": "stdout",
       "text": [
        "\n",
        "[BernoulliRBM] Iteration 12, pseudo-likelihood = -38.65, time = 1.67s"
       ]
      },
      {
       "output_type": "stream",
       "stream": "stdout",
       "text": [
        "\n",
        "[BernoulliRBM] Iteration 13, pseudo-likelihood = -37.76, time = 1.65s"
       ]
      },
      {
       "output_type": "stream",
       "stream": "stdout",
       "text": [
        "\n",
        "[BernoulliRBM] Iteration 14, pseudo-likelihood = -38.48, time = 1.68s"
       ]
      },
      {
       "output_type": "stream",
       "stream": "stdout",
       "text": [
        "\n",
        "[BernoulliRBM] Iteration 15, pseudo-likelihood = -38.15, time = 1.60s"
       ]
      },
      {
       "output_type": "stream",
       "stream": "stdout",
       "text": [
        "\n",
        "[BernoulliRBM] Iteration 16, pseudo-likelihood = -36.56, time = 1.38s"
       ]
      },
      {
       "output_type": "stream",
       "stream": "stdout",
       "text": [
        "\n",
        "[BernoulliRBM] Iteration 17, pseudo-likelihood = -37.99, time = 1.41s"
       ]
      },
      {
       "output_type": "stream",
       "stream": "stdout",
       "text": [
        "\n",
        "[BernoulliRBM] Iteration 18, pseudo-likelihood = -38.72, time = 1.37s"
       ]
      },
      {
       "output_type": "stream",
       "stream": "stdout",
       "text": [
        "\n",
        "[BernoulliRBM] Iteration 19, pseudo-likelihood = -37.25, time = 1.41s"
       ]
      },
      {
       "output_type": "stream",
       "stream": "stdout",
       "text": [
        "\n",
        "[BernoulliRBM] Iteration 20, pseudo-likelihood = -38.35, time = 1.36s"
       ]
      },
      {
       "output_type": "stream",
       "stream": "stdout",
       "text": [
        "\n"
       ]
      },
      {
       "metadata": {},
       "output_type": "pyout",
       "prompt_number": 33,
       "text": [
        "DecisionTreeClassifier(compute_importances=None, criterion='gini',\n",
        "            max_depth=None, max_features=None, max_leaf_nodes=None,\n",
        "            min_density=None, min_samples_leaf=1, min_samples_split=2,\n",
        "            random_state=0, splitter='best')"
       ]
      }
     ],
     "prompt_number": 33
    },
    {
     "cell_type": "heading",
     "level": 4,
     "metadata": {},
     "source": [
      "Evaluation"
     ]
    },
    {
     "cell_type": "code",
     "collapsed": false,
     "input": [
      "###############################################################################\n",
      "# Evaluation DTree\n",
      "\n",
      "print()\n",
      "print(\"Decision Tree using RBM features:\\n%s\\n\" % (\n",
      "    metrics.classification_report(\n",
      "        Y_test,\n",
      "        classifier.predict(X_test))))\n",
      "\n",
      "print(\"Decision Tree using raw pixel features:\\n%s\\n\" % (\n",
      "    metrics.classification_report(\n",
      "        Y_test,\n",
      "        DTree_classifier.predict(X_test))))"
     ],
     "language": "python",
     "metadata": {},
     "outputs": [
      {
       "output_type": "stream",
       "stream": "stdout",
       "text": [
        "()\n",
        "Decision Tree using RBM features:\n",
        "             precision    recall  f1-score   support\n",
        "\n",
        "          0       0.80      0.77      0.78      1137\n",
        "          1       0.59      0.63      0.61       600\n",
        "\n",
        "avg / total       0.73      0.72      0.72      1737\n",
        "\n",
        "\n",
        "Decision Tree using raw pixel features:\n",
        "             precision    recall  f1-score   support\n",
        "\n",
        "          0       0.80      0.82      0.81      1137\n",
        "          1       0.64      0.62      0.63       600\n",
        "\n",
        "avg / total       0.75      0.75      0.75      1737\n",
        "\n",
        "\n"
       ]
      }
     ],
     "prompt_number": 34
    },
    {
     "cell_type": "code",
     "collapsed": false,
     "input": [
      "y_score = classifier.predict_proba(X_test)"
     ],
     "language": "python",
     "metadata": {},
     "outputs": [],
     "prompt_number": 35
    },
    {
     "cell_type": "code",
     "collapsed": false,
     "input": [
      "#y_score = classifier.fit(X_train, Y_train).decision_function(X_test)\n",
      "precision_GNB, recall_GNB, _ = precision_recall_curve(Y_test, y_score[:,1])\n",
      "fpr, tpr, _ = roc_curve(Y_test, y_score[:,1])\n",
      "roc_auc = auc(fpr, tpr)"
     ],
     "language": "python",
     "metadata": {},
     "outputs": [],
     "prompt_number": 36
    },
    {
     "cell_type": "heading",
     "level": 4,
     "metadata": {},
     "source": [
      "Precision-Recall"
     ]
    },
    {
     "cell_type": "code",
     "collapsed": false,
     "input": [
      "# Plot Precision-Recall curve\n",
      "plt.clf()\n",
      "plt.plot(recall_GNB, precision_GNB, label='Precision-Recall curve')\n",
      "plt.xlabel('Recall')\n",
      "plt.ylabel('Precision')\n",
      "plt.ylim([0.0, 1.05])\n",
      "plt.xlim([0.0, 1.0])\n",
      "#plt.title('Precision-Recall example: AUC={0:0.2f}'.format(average_precision[0]))\n",
      "plt.legend(loc=\"lower left\")\n",
      "plt.show()"
     ],
     "language": "python",
     "metadata": {},
     "outputs": [
      {
       "metadata": {},
       "output_type": "display_data",
       "png": "[encoded data removed]",
       "text": [
        "<matplotlib.figure.Figure at 0x16c32ac8>"
       ]
      }
     ],
     "prompt_number": 37
    },
    {
     "cell_type": "heading",
     "level": 4,
     "metadata": {},
     "source": [
      "ROC-AUC"
     ]
    },
    {
     "cell_type": "code",
     "collapsed": false,
     "input": [
      "# Plot of a ROC curve for a specific class\n",
      "plt.figure()\n",
      "plt.plot(fpr, tpr, label='ROC curve (area = %0.2f)' % roc_auc)\n",
      "plt.plot([0, 1], [0, 1], 'k--')\n",
      "plt.xlim([0.0, 1.0])\n",
      "plt.ylim([0.0, 1.05])\n",
      "plt.xlabel('False Positive Rate')\n",
      "plt.ylabel('True Positive Rate')\n",
      "plt.title('Receiver operating characteristic example')\n",
      "plt.legend(loc=\"lower right\")\n",
      "plt.show()"
     ],
     "language": "python",
     "metadata": {},
     "outputs": [
      {
       "metadata": {},
       "output_type": "display_data",
       "png": "[encoded data removed]",
       "text": [
        "<matplotlib.figure.Figure at 0x1f9e03c8>"
       ]
      }
     ],
     "prompt_number": 38
    },
    {
     "cell_type": "code",
     "collapsed": false,
     "input": [
      "# save the classifier\n",
      "with open('NN_LR1.pkl', 'wb') as fid:\n",
      "    cPickle.dump(classifier, fid)"
     ],
     "language": "python",
     "metadata": {},
     "outputs": [],
     "prompt_number": 39
    },
    {
     "cell_type": "code",
     "collapsed": false,
     "input": [
      "# load it again\n",
      "with open('NN_LR1.pkl', 'rb') as fid:\n",
      "    classifier = cPickle.load(fid)"
     ],
     "language": "python",
     "metadata": {},
     "outputs": [],
     "prompt_number": 40
    },
    {
     "cell_type": "code",
     "collapsed": false,
     "input": [
      "# Save the precision calculations as variable\n",
      "#Saving metrics to a txt file\n",
      "file = open('DTree_accuracy.txt', 'w')\n",
      "accs.append(metrics.accuracy_score(Y_test, classifier.predict(X_test)))\n",
      "if accs[2] > accs[0] and accs[2] > accs[1]:\n",
      "    with open('my_dumped_classifier.pkl', 'wb') as fid:\n",
      "        cPickle.dump(classifier, fid)\n",
      "pickle.dump(accs[2], file)\n",
      "file.close()"
     ],
     "language": "python",
     "metadata": {},
     "outputs": [],
     "prompt_number": 41
    },
    {
     "cell_type": "heading",
     "level": 3,
     "metadata": {},
     "source": [
      "Logistic Regression"
     ]
    },
    {
     "cell_type": "code",
     "collapsed": false,
     "input": [
      "# Logistic Regression:\n",
      "logistic = linear_model.LogisticRegression()"
     ],
     "language": "python",
     "metadata": {},
     "outputs": [],
     "prompt_number": 13
    },
    {
     "cell_type": "heading",
     "level": 4,
     "metadata": {},
     "source": [
      "Naming the Feature Extractors and Pipelining"
     ]
    },
    {
     "cell_type": "code",
     "collapsed": false,
     "input": [
      "rbm = BernoulliRBM(random_state=0, verbose=True)\n",
      "rbm_2 = BernoulliRBM(random_state=0, verbose=True)\n",
      "\n",
      "classifier = Pipeline(steps=[('rbm', rbm), ('rbm_2', rbm_2), ('Log Regress', logistic)])"
     ],
     "language": "python",
     "metadata": {},
     "outputs": [],
     "prompt_number": 14
    },
    {
     "cell_type": "heading",
     "level": 4,
     "metadata": {},
     "source": [
      "Training"
     ]
    },
    {
     "cell_type": "code",
     "collapsed": false,
     "input": [
      "###############################################################################\n",
      "# Training Log Regress\n",
      "\n",
      "# Hyper-parameters. These were set by cross-validation,\n",
      "# using a GridSearchCV. Here we are not performing cross-validation to\n",
      "# save time.\n",
      "rbm.learning_rate = 0.06\n",
      "rbm.n_iter = 20\n",
      "rbm_2.learning_rate = 0.06\n",
      "rbm_2.n_iter = 20\n",
      "# More components tend to give better prediction performance, but larger\n",
      "# fitting time\n",
      "# original = 100\n",
      "rbm.n_components = 256\n",
      "rbm_2.n_components = 256\n",
      "\n",
      "\n",
      "logistic.C = 6000.0 #--gonna have to change to optimize for other classifiers/learners\n",
      "\n",
      "\n",
      "# Training RBM-Logistic Pipeline\n",
      "classifier.fit(X_train, Y_train)\n",
      "\n",
      "# Training Logistic regression\n",
      "Logistic_classifier = linear_model.LogisticRegression()\n",
      "Logistic_classifier.fit(X_train, Y_train)\n"
     ],
     "language": "python",
     "metadata": {},
     "outputs": [
      {
       "output_type": "stream",
       "stream": "stdout",
       "text": [
        "[BernoulliRBM] Iteration 1, pseudo-likelihood = -139.63, time = 1.06s\n",
        "[BernoulliRBM] Iteration 2, pseudo-likelihood = -138.75, time = 1.30s"
       ]
      },
      {
       "output_type": "stream",
       "stream": "stdout",
       "text": [
        "\n",
        "[BernoulliRBM] Iteration 3, pseudo-likelihood = -137.53, time = 1.28s"
       ]
      },
      {
       "output_type": "stream",
       "stream": "stdout",
       "text": [
        "\n",
        "[BernoulliRBM] Iteration 4, pseudo-likelihood = -136.41, time = 1.28s"
       ]
      },
      {
       "output_type": "stream",
       "stream": "stdout",
       "text": [
        "\n",
        "[BernoulliRBM] Iteration 5, pseudo-likelihood = -135.39, time = 1.29s"
       ]
      },
      {
       "output_type": "stream",
       "stream": "stdout",
       "text": [
        "\n",
        "[BernoulliRBM] Iteration 6, pseudo-likelihood = -134.94, time = 1.34s"
       ]
      },
      {
       "output_type": "stream",
       "stream": "stdout",
       "text": [
        "\n",
        "[BernoulliRBM] Iteration 7, pseudo-likelihood = -134.91, time = 1.32s"
       ]
      },
      {
       "output_type": "stream",
       "stream": "stdout",
       "text": [
        "\n",
        "[BernoulliRBM] Iteration 8, pseudo-likelihood = -136.59, time = 1.28s"
       ]
      },
      {
       "output_type": "stream",
       "stream": "stdout",
       "text": [
        "\n",
        "[BernoulliRBM] Iteration 9, pseudo-likelihood = -135.01, time = 1.34s"
       ]
      },
      {
       "output_type": "stream",
       "stream": "stdout",
       "text": [
        "\n",
        "[BernoulliRBM] Iteration 10, pseudo-likelihood = -134.27, time = 1.33s"
       ]
      },
      {
       "output_type": "stream",
       "stream": "stdout",
       "text": [
        "\n",
        "[BernoulliRBM] Iteration 11, pseudo-likelihood = -136.92, time = 1.29s"
       ]
      },
      {
       "output_type": "stream",
       "stream": "stdout",
       "text": [
        "\n",
        "[BernoulliRBM] Iteration 12, pseudo-likelihood = -136.08, time = 1.33s"
       ]
      },
      {
       "output_type": "stream",
       "stream": "stdout",
       "text": [
        "\n",
        "[BernoulliRBM] Iteration 13, pseudo-likelihood = -133.96, time = 1.30s"
       ]
      },
      {
       "output_type": "stream",
       "stream": "stdout",
       "text": [
        "\n",
        "[BernoulliRBM] Iteration 14, pseudo-likelihood = -134.48, time = 1.29s"
       ]
      },
      {
       "output_type": "stream",
       "stream": "stdout",
       "text": [
        "\n",
        "[BernoulliRBM] Iteration 15, pseudo-likelihood = -136.24, time = 1.36s"
       ]
      },
      {
       "output_type": "stream",
       "stream": "stdout",
       "text": [
        "\n",
        "[BernoulliRBM] Iteration 16, pseudo-likelihood = -135.79, time = 1.31s"
       ]
      },
      {
       "output_type": "stream",
       "stream": "stdout",
       "text": [
        "\n",
        "[BernoulliRBM] Iteration 17, pseudo-likelihood = -134.23, time = 1.32s"
       ]
      },
      {
       "output_type": "stream",
       "stream": "stdout",
       "text": [
        "\n",
        "[BernoulliRBM] Iteration 18, pseudo-likelihood = -134.94, time = 1.27s"
       ]
      },
      {
       "output_type": "stream",
       "stream": "stdout",
       "text": [
        "\n",
        "[BernoulliRBM] Iteration 19, pseudo-likelihood = -132.30, time = 1.29s"
       ]
      },
      {
       "output_type": "stream",
       "stream": "stdout",
       "text": [
        "\n",
        "[BernoulliRBM] Iteration 20, pseudo-likelihood = -135.90, time = 1.27s"
       ]
      },
      {
       "output_type": "stream",
       "stream": "stdout",
       "text": [
        "\n",
        "[BernoulliRBM] Iteration 1, pseudo-likelihood = -41.66, time = 1.07s"
       ]
      },
      {
       "output_type": "stream",
       "stream": "stdout",
       "text": [
        "\n",
        "[BernoulliRBM] Iteration 2, pseudo-likelihood = -40.34, time = 1.32s"
       ]
      },
      {
       "output_type": "stream",
       "stream": "stdout",
       "text": [
        "\n",
        "[BernoulliRBM] Iteration 3, pseudo-likelihood = -38.90, time = 1.30s"
       ]
      },
      {
       "output_type": "stream",
       "stream": "stdout",
       "text": [
        "\n",
        "[BernoulliRBM] Iteration 4, pseudo-likelihood = -39.08, time = 1.31s"
       ]
      },
      {
       "output_type": "stream",
       "stream": "stdout",
       "text": [
        "\n",
        "[BernoulliRBM] Iteration 5, pseudo-likelihood = -36.52, time = 1.31s"
       ]
      },
      {
       "output_type": "stream",
       "stream": "stdout",
       "text": [
        "\n",
        "[BernoulliRBM] Iteration 6, pseudo-likelihood = -39.60, time = 1.33s"
       ]
      },
      {
       "output_type": "stream",
       "stream": "stdout",
       "text": [
        "\n",
        "[BernoulliRBM] Iteration 7, pseudo-likelihood = -37.96, time = 1.31s"
       ]
      },
      {
       "output_type": "stream",
       "stream": "stdout",
       "text": [
        "\n",
        "[BernoulliRBM] Iteration 8, pseudo-likelihood = -37.64, time = 1.33s"
       ]
      },
      {
       "output_type": "stream",
       "stream": "stdout",
       "text": [
        "\n",
        "[BernoulliRBM] Iteration 9, pseudo-likelihood = -36.94, time = 1.30s"
       ]
      },
      {
       "output_type": "stream",
       "stream": "stdout",
       "text": [
        "\n",
        "[BernoulliRBM] Iteration 10, pseudo-likelihood = -38.25, time = 1.29s"
       ]
      },
      {
       "output_type": "stream",
       "stream": "stdout",
       "text": [
        "\n",
        "[BernoulliRBM] Iteration 11, pseudo-likelihood = -37.37, time = 1.33s"
       ]
      },
      {
       "output_type": "stream",
       "stream": "stdout",
       "text": [
        "\n",
        "[BernoulliRBM] Iteration 12, pseudo-likelihood = -38.65, time = 1.34s"
       ]
      },
      {
       "output_type": "stream",
       "stream": "stdout",
       "text": [
        "\n",
        "[BernoulliRBM] Iteration 13, pseudo-likelihood = -37.76, time = 1.33s"
       ]
      },
      {
       "output_type": "stream",
       "stream": "stdout",
       "text": [
        "\n",
        "[BernoulliRBM] Iteration 14, pseudo-likelihood = -38.48, time = 1.37s"
       ]
      },
      {
       "output_type": "stream",
       "stream": "stdout",
       "text": [
        "\n",
        "[BernoulliRBM] Iteration 15, pseudo-likelihood = -38.15, time = 1.28s"
       ]
      },
      {
       "output_type": "stream",
       "stream": "stdout",
       "text": [
        "\n",
        "[BernoulliRBM] Iteration 16, pseudo-likelihood = -36.56, time = 1.34s"
       ]
      },
      {
       "output_type": "stream",
       "stream": "stdout",
       "text": [
        "\n",
        "[BernoulliRBM] Iteration 17, pseudo-likelihood = -37.99, time = 1.34s"
       ]
      },
      {
       "output_type": "stream",
       "stream": "stdout",
       "text": [
        "\n",
        "[BernoulliRBM] Iteration 18, pseudo-likelihood = -38.72, time = 1.31s"
       ]
      },
      {
       "output_type": "stream",
       "stream": "stdout",
       "text": [
        "\n",
        "[BernoulliRBM] Iteration 19, pseudo-likelihood = -37.25, time = 1.33s"
       ]
      },
      {
       "output_type": "stream",
       "stream": "stdout",
       "text": [
        "\n",
        "[BernoulliRBM] Iteration 20, pseudo-likelihood = -38.35, time = 1.31s"
       ]
      },
      {
       "output_type": "stream",
       "stream": "stdout",
       "text": [
        "\n"
       ]
      },
      {
       "metadata": {},
       "output_type": "pyout",
       "prompt_number": 15,
       "text": [
        "LogisticRegression(C=1.0, class_weight=None, dual=False, fit_intercept=True,\n",
        "          intercept_scaling=1, penalty='l2', random_state=None, tol=0.0001)"
       ]
      }
     ],
     "prompt_number": 15
    },
    {
     "cell_type": "heading",
     "level": 4,
     "metadata": {},
     "source": [
      "Evaluation"
     ]
    },
    {
     "cell_type": "code",
     "collapsed": false,
     "input": [
      "###############################################################################\n",
      "# Evaluation Log Regress\n",
      "\n",
      "print()\n",
      "print(\"Logistic Regression using RBM features:\\n%s\\n\" % (\n",
      "    metrics.classification_report(\n",
      "        Y_test,\n",
      "        classifier.predict(X_test))))\n",
      "\n",
      "print(\"Logistic Regression using raw pixel features:\\n%s\\n\" % (\n",
      "    metrics.classification_report(\n",
      "        Y_test,\n",
      "        Logistic_classifier.predict(X_test))))\n",
      "\n",
      "metrics.accuracy_score(Y_test,Logistic_classifier.predict(X_test))"
     ],
     "language": "python",
     "metadata": {},
     "outputs": [
      {
       "output_type": "stream",
       "stream": "stdout",
       "text": [
        "()\n",
        "Logistic Regression using RBM features:\n",
        "             precision    recall  f1-score   support\n",
        "\n",
        "          0       0.77      0.96      0.86      1137\n",
        "          1       0.85      0.47      0.61       600\n",
        "\n",
        "avg / total       0.80      0.79      0.77      1737\n",
        "\n",
        "\n",
        "Logistic Regression using raw pixel features:\n",
        "             precision    recall  f1-score   support\n",
        "\n",
        "          0       0.68      0.97      0.80      1137\n",
        "          1       0.71      0.14      0.24       600\n",
        "\n",
        "avg / total       0.69      0.68      0.61      1737\n",
        "\n",
        "\n"
       ]
      },
      {
       "metadata": {},
       "output_type": "pyout",
       "prompt_number": 19,
       "text": [
        "0.68393782383419688"
       ]
      }
     ],
     "prompt_number": 19
    },
    {
     "cell_type": "code",
     "collapsed": false,
     "input": [
      "y_score = classifier.fit(X_train, Y_train).decision_function(X_test)\n",
      "precision_SVM, recall_SVM, _ = precision_recall_curve(Y_test, y_score)\n",
      "fpr, tpr, _ = roc_curve(Y_test, y_score)\n",
      "roc_auc = auc(fpr, tpr)"
     ],
     "language": "python",
     "metadata": {},
     "outputs": [
      {
       "output_type": "stream",
       "stream": "stdout",
       "text": [
        "[BernoulliRBM] Iteration 1, pseudo-likelihood = -139.63, time = 1.08s\n",
        "[BernoulliRBM] Iteration 2, pseudo-likelihood = -138.75, time = 1.36s"
       ]
      },
      {
       "output_type": "stream",
       "stream": "stdout",
       "text": [
        "\n",
        "[BernoulliRBM] Iteration 3, pseudo-likelihood = -137.53, time = 1.35s"
       ]
      },
      {
       "output_type": "stream",
       "stream": "stdout",
       "text": [
        "\n",
        "[BernoulliRBM] Iteration 4, pseudo-likelihood = -136.41, time = 1.30s"
       ]
      },
      {
       "output_type": "stream",
       "stream": "stdout",
       "text": [
        "\n",
        "[BernoulliRBM] Iteration 5, pseudo-likelihood = -135.39, time = 1.36s"
       ]
      },
      {
       "output_type": "stream",
       "stream": "stdout",
       "text": [
        "\n",
        "[BernoulliRBM] Iteration 6, pseudo-likelihood = -134.94, time = 1.34s"
       ]
      },
      {
       "output_type": "stream",
       "stream": "stdout",
       "text": [
        "\n",
        "[BernoulliRBM] Iteration 7, pseudo-likelihood = -134.91, time = 1.40s"
       ]
      },
      {
       "output_type": "stream",
       "stream": "stdout",
       "text": [
        "\n",
        "[BernoulliRBM] Iteration 8, pseudo-likelihood = -136.59, time = 1.39s"
       ]
      },
      {
       "output_type": "stream",
       "stream": "stdout",
       "text": [
        "\n",
        "[BernoulliRBM] Iteration 9, pseudo-likelihood = -135.01, time = 1.32s"
       ]
      },
      {
       "output_type": "stream",
       "stream": "stdout",
       "text": [
        "\n",
        "[BernoulliRBM] Iteration 10, pseudo-likelihood = -134.27, time = 1.47s"
       ]
      },
      {
       "output_type": "stream",
       "stream": "stdout",
       "text": [
        "\n",
        "[BernoulliRBM] Iteration 11, pseudo-likelihood = -136.92, time = 1.40s"
       ]
      },
      {
       "output_type": "stream",
       "stream": "stdout",
       "text": [
        "\n",
        "[BernoulliRBM] Iteration 12, pseudo-likelihood = -136.08, time = 1.46s"
       ]
      },
      {
       "output_type": "stream",
       "stream": "stdout",
       "text": [
        "\n",
        "[BernoulliRBM] Iteration 13, pseudo-likelihood = -133.96, time = 1.41s"
       ]
      },
      {
       "output_type": "stream",
       "stream": "stdout",
       "text": [
        "\n",
        "[BernoulliRBM] Iteration 14, pseudo-likelihood = -134.48, time = 1.70s"
       ]
      },
      {
       "output_type": "stream",
       "stream": "stdout",
       "text": [
        "\n",
        "[BernoulliRBM] Iteration 15, pseudo-likelihood = -136.24, time = 1.45s"
       ]
      },
      {
       "output_type": "stream",
       "stream": "stdout",
       "text": [
        "\n",
        "[BernoulliRBM] Iteration 16, pseudo-likelihood = -135.79, time = 1.34s"
       ]
      },
      {
       "output_type": "stream",
       "stream": "stdout",
       "text": [
        "\n",
        "[BernoulliRBM] Iteration 17, pseudo-likelihood = -134.23, time = 1.41s"
       ]
      },
      {
       "output_type": "stream",
       "stream": "stdout",
       "text": [
        "\n",
        "[BernoulliRBM] Iteration 18, pseudo-likelihood = -134.94, time = 1.39s"
       ]
      },
      {
       "output_type": "stream",
       "stream": "stdout",
       "text": [
        "\n",
        "[BernoulliRBM] Iteration 19, pseudo-likelihood = -132.30, time = 1.42s"
       ]
      },
      {
       "output_type": "stream",
       "stream": "stdout",
       "text": [
        "\n",
        "[BernoulliRBM] Iteration 20, pseudo-likelihood = -135.90, time = 1.38s"
       ]
      },
      {
       "output_type": "stream",
       "stream": "stdout",
       "text": [
        "\n",
        "[BernoulliRBM] Iteration 1, pseudo-likelihood = -41.66, time = 1.10s"
       ]
      },
      {
       "output_type": "stream",
       "stream": "stdout",
       "text": [
        "\n",
        "[BernoulliRBM] Iteration 2, pseudo-likelihood = -40.34, time = 1.42s"
       ]
      },
      {
       "output_type": "stream",
       "stream": "stdout",
       "text": [
        "\n",
        "[BernoulliRBM] Iteration 3, pseudo-likelihood = -38.90, time = 1.42s"
       ]
      },
      {
       "output_type": "stream",
       "stream": "stdout",
       "text": [
        "\n",
        "[BernoulliRBM] Iteration 4, pseudo-likelihood = -39.08, time = 1.36s"
       ]
      },
      {
       "output_type": "stream",
       "stream": "stdout",
       "text": [
        "\n",
        "[BernoulliRBM] Iteration 5, pseudo-likelihood = -36.52, time = 1.41s"
       ]
      },
      {
       "output_type": "stream",
       "stream": "stdout",
       "text": [
        "\n",
        "[BernoulliRBM] Iteration 6, pseudo-likelihood = -39.60, time = 1.40s"
       ]
      },
      {
       "output_type": "stream",
       "stream": "stdout",
       "text": [
        "\n",
        "[BernoulliRBM] Iteration 7, pseudo-likelihood = -37.96, time = 1.36s"
       ]
      },
      {
       "output_type": "stream",
       "stream": "stdout",
       "text": [
        "\n",
        "[BernoulliRBM] Iteration 8, pseudo-likelihood = -37.64, time = 1.40s"
       ]
      },
      {
       "output_type": "stream",
       "stream": "stdout",
       "text": [
        "\n",
        "[BernoulliRBM] Iteration 9, pseudo-likelihood = -36.94, time = 1.33s"
       ]
      },
      {
       "output_type": "stream",
       "stream": "stdout",
       "text": [
        "\n",
        "[BernoulliRBM] Iteration 10, pseudo-likelihood = -38.25, time = 1.38s"
       ]
      },
      {
       "output_type": "stream",
       "stream": "stdout",
       "text": [
        "\n",
        "[BernoulliRBM] Iteration 11, pseudo-likelihood = -37.37, time = 1.38s"
       ]
      },
      {
       "output_type": "stream",
       "stream": "stdout",
       "text": [
        "\n",
        "[BernoulliRBM] Iteration 12, pseudo-likelihood = -38.65, time = 1.39s"
       ]
      },
      {
       "output_type": "stream",
       "stream": "stdout",
       "text": [
        "\n",
        "[BernoulliRBM] Iteration 13, pseudo-likelihood = -37.76, time = 1.36s"
       ]
      },
      {
       "output_type": "stream",
       "stream": "stdout",
       "text": [
        "\n",
        "[BernoulliRBM] Iteration 14, pseudo-likelihood = -38.48, time = 1.35s"
       ]
      },
      {
       "output_type": "stream",
       "stream": "stdout",
       "text": [
        "\n",
        "[BernoulliRBM] Iteration 15, pseudo-likelihood = -38.15, time = 1.38s"
       ]
      },
      {
       "output_type": "stream",
       "stream": "stdout",
       "text": [
        "\n",
        "[BernoulliRBM] Iteration 16, pseudo-likelihood = -36.56, time = 1.41s"
       ]
      },
      {
       "output_type": "stream",
       "stream": "stdout",
       "text": [
        "\n",
        "[BernoulliRBM] Iteration 17, pseudo-likelihood = -37.99, time = 1.36s"
       ]
      },
      {
       "output_type": "stream",
       "stream": "stdout",
       "text": [
        "\n",
        "[BernoulliRBM] Iteration 18, pseudo-likelihood = -38.72, time = 1.38s"
       ]
      },
      {
       "output_type": "stream",
       "stream": "stdout",
       "text": [
        "\n",
        "[BernoulliRBM] Iteration 19, pseudo-likelihood = -37.25, time = 1.33s"
       ]
      },
      {
       "output_type": "stream",
       "stream": "stdout",
       "text": [
        "\n",
        "[BernoulliRBM] Iteration 20, pseudo-likelihood = -38.35, time = 1.37s"
       ]
      },
      {
       "output_type": "stream",
       "stream": "stdout",
       "text": [
        "\n"
       ]
      }
     ],
     "prompt_number": 46
    },
    {
     "cell_type": "heading",
     "level": 4,
     "metadata": {},
     "source": [
      "Precision-Recall"
     ]
    },
    {
     "cell_type": "code",
     "collapsed": false,
     "input": [
      "# Plot Precision-Recall curve\n",
      "plt.clf()\n",
      "plt.plot(recall_SVM, precision_SVM, label='Precision-Recall curve')\n",
      "plt.xlabel('Recall')\n",
      "plt.ylabel('Precision')\n",
      "plt.ylim([0.0, 1.05])\n",
      "plt.xlim([0.0, 1.0])\n",
      "#plt.title('Precision-Recall example: AUC={0:0.2f}'.format(average_precision[0]))\n",
      "plt.legend(loc=\"lower left\")\n",
      "plt.show()"
     ],
     "language": "python",
     "metadata": {},
     "outputs": [
      {
       "metadata": {},
       "output_type": "display_data",
       "png": "[encoded data removed]",
       "text": [
        "<matplotlib.figure.Figure at 0x1fe55f98>"
       ]
      }
     ],
     "prompt_number": 47
    },
    {
     "cell_type": "heading",
     "level": 4,
     "metadata": {},
     "source": [
      "ROC-AUC"
     ]
    },
    {
     "cell_type": "code",
     "collapsed": false,
     "input": [
      "# Plot of a ROC curve for a specific class\n",
      "plt.figure()\n",
      "plt.plot(fpr, tpr, label='ROC curve (area = %0.2f)' % roc_auc)\n",
      "plt.plot([0, 1], [0, 1], 'k--')\n",
      "plt.xlim([0.0, 1.0])\n",
      "plt.ylim([0.0, 1.05])\n",
      "plt.xlabel('False Positive Rate')\n",
      "plt.ylabel('True Positive Rate')\n",
      "plt.title('Receiver operating characteristic example')\n",
      "plt.legend(loc=\"lower right\")\n",
      "plt.show()"
     ],
     "language": "python",
     "metadata": {},
     "outputs": [
      {
       "metadata": {},
       "output_type": "display_data",
       "png": "[encoded data removed]",
       "text": [
        "<matplotlib.figure.Figure at 0x1f5b8a20>"
       ]
      }
     ],
     "prompt_number": 48
    },
    {
     "cell_type": "code",
     "collapsed": false,
     "input": [
      "#Saving metrics to a txt file\n",
      "#accs.append(metrics.accuracy_score(Y_test,classifier.predict(X_test)))\n",
      "#file = open('LogReg_accuracy.txt', 'w')\n",
      "#if accs[3] > accs[0] and accs[3] > accs[1] and accs[3] > accs[2]:\n",
      "with open('NN_LR1.pkl', 'wb') as fid:\n",
      "    cPickle.dump(classifier, fid)\n",
      "#pickle.dump(accs[3], file)\n",
      "#file.close()"
     ],
     "language": "python",
     "metadata": {},
     "outputs": [],
     "prompt_number": 18
    },
    {
     "cell_type": "code",
     "collapsed": false,
     "input": [
      "#file0 = open('SVM_accuracy.txt', 'r')\n",
      "#file1 = open('NB_accuracy.txt', 'r')\n",
      "#file2 = open('DTree_accuracy.txt', 'r')\n",
      "#file3 = open('LogReg_accuracy.txt', 'r')\n",
      "#out0 = pickle.load(accs[0])\n",
      "print('SVM = ', accs[0])\n",
      "#out1 = pickle.load(accs[1])\n",
      "print('Naive Bayes = ', accs[1])\n",
      "#out2 = pickle.load(accs[2])\n",
      "print('Decision Tree = ', accs[2])\n",
      "#out3 = pickle.load(accs[3])\n",
      "print('Logistic Regression = ', accs[3])"
     ],
     "language": "python",
     "metadata": {},
     "outputs": [
      {
       "output_type": "stream",
       "stream": "stdout",
       "text": [
        "('SVM = ', 0.65457685664939547)\n",
        "('Naive Bayes = ', 0.6424870466321243)\n",
        "('Decision Tree = ', 0.72020725388601037)\n",
        "('Logistic Regression = ', 0.78871617731721355)\n"
       ]
      }
     ],
     "prompt_number": 50
    }
   ],
   "metadata": {}
  }
 ]
}