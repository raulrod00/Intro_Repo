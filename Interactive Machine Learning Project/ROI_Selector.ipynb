{
 "metadata": {
  "name": "",
  "signature": "sha256:549e8838d95106ea9b0f8ed2f9d237aa76caa71f486edc5050d2284d52d8c4f2"
 },
 "nbformat": 3,
 "nbformat_minor": 0,
 "worksheets": [
  {
   "cells": [
    {
     "cell_type": "heading",
     "level": 1,
     "metadata": {},
     "source": [
      "User Interaction"
     ]
    },
    {
     "cell_type": "heading",
     "level": 2,
     "metadata": {},
     "source": [
      "Import"
     ]
    },
    {
     "cell_type": "markdown",
     "metadata": {},
     "source": [
      "<p>Using the following python libraries:\n",
      "<ul>\n",
      "<li>Image Processing Library: <a href =\"http://opencv.org/\">Open CV</a></li>\n",
      "<li>Scientific Computing Library: <a href =\"http://www.scipy.org/\">SciPy</a></li>\n",
      "<li>Numerical Computing Library: <a href=\"http://www.numpy.org/\">NumPy</a></li>\n",
      "<li>Plotting Library: <a href =\"http://matplotlib.org/\">MatPlotLib</a></li>\n",
      "<li>Accessory Library: <a href =\"http://wiki.scipy.org/PyLab\">PyLab</a></li>\n",
      "</ul>\n",
      "</p>"
     ]
    },
    {
     "cell_type": "code",
     "collapsed": false,
     "input": [
      "import os\n",
      "import cv2\n",
      "\n",
      "import scipy.io as sio\n",
      "import numpy as np\n",
      "from matplotlib import pyplot as plt\n",
      "from matplotlib.widgets import RectangleSelector\n",
      "from matplotlib.patches import Rectangle\n",
      "from pylab import *"
     ],
     "language": "python",
     "metadata": {},
     "outputs": [],
     "prompt_number": 11
    },
    {
     "cell_type": "markdown",
     "metadata": {},
     "source": [
      "<p>\n",
      "Setting the variables to be used:\n",
      "<li><b>rootdir</b>: The location of the set of images</li>\n",
      "<li><b>arr</b>: holds all the images that are imported (for now a 26x512x512 matrix)</li>\n",
      "<li><b>size</b>: a way of changing feature size (8x8;12x12;16x16, etc.)</li>\n",
      "<li><b>index</b>: keeps track of which image is being displayed</li>\n",
      "<li><b>ROIs</b>: the encircled Regions of Interest</li>\n",
      "ROIs dimensions depend on the selected regions<br />\n",
      "ROIs array: <b>[Index][Good/Bad][Rect_No][(xy, width, height)]</b><br /><br />\n",
      "<li><b>startpos/endpos</b>: where the selected rectangular region start and end</li>\n",
      "<li><b>new_rectprops</b>: changes the properties of the rectangle that is drawn on screen</li>\n",
      "</p>"
     ]
    },
    {
     "cell_type": "code",
     "collapsed": false,
     "input": [
      "rootdir=\"corrected\\\\\"\n",
      "arr = []\n",
      "size = 16\n",
      "index = 0\n",
      "ROIs = []\n",
      "startpos = np.zeros([26,2], dtype=int)\n",
      "endpos = np.zeros([26,2], dtype=int)\n",
      "new_rectprops = dict(facecolor='none', edgecolor='red',alpha = 0.75, fill=False)"
     ],
     "language": "python",
     "metadata": {},
     "outputs": [],
     "prompt_number": 12
    },
    {
     "cell_type": "code",
     "collapsed": false,
     "input": [
      "def set_rectprops(event):\n",
      "    global new_rectprops\n",
      "    if event.button == 1:\n",
      "        new_rectprops = dict(facecolor='none', edgecolor='red',alpha = 0.75, fill=False)\n",
      "    elif event.button == 3:\n",
      "        new_rectprops = dict(facecolor='none', edgecolor='green',alpha = 0.75, fill=False)\n",
      "    else:\n",
      "        return"
     ],
     "language": "python",
     "metadata": {},
     "outputs": [],
     "prompt_number": 13
    },
    {
     "cell_type": "code",
     "collapsed": false,
     "input": [
      "def toggle_selector(event):\n",
      "    if event.key in ['Q', 'q'] and toggle_selector.RS.active:\n",
      "        print ' RectangleSelector deactivated.'\n",
      "        toggle_selector.RS.set_active(False)\n",
      "    if event.key in ['A', 'a'] and not toggle_selector.RS.active:\n",
      "        print ' RectangleSelector activated.'\n",
      "        toggle_selector.RS.set_active(True)"
     ],
     "language": "python",
     "metadata": {},
     "outputs": [],
     "prompt_number": 14
    },
    {
     "cell_type": "code",
     "collapsed": false,
     "input": [
      "def on_press(event):\n",
      "    global index\n",
      "    global arr\n",
      "    if event.button == 'up' and index < 25:\n",
      "        index = index + 1;\n",
      "    elif event.button == 'up' and index == 25:\n",
      "        index = 0;\n",
      "    elif event.button == 'down' and index > 0:\n",
      "        index = index - 1;\n",
      "    elif event.button == 'down' and index == 0:\n",
      "        index = 25;\n",
      "    else:\n",
      "        print 'I\\'m broke!'\n",
      "        return\n",
      "    ax.cla()\n",
      "    ax.set_title(str(index+1)+'/26')\n",
      "    ax.imshow(arr[index], cmap = 'gray', interpolation = 'bicubic')\n",
      "    ax.plot(0)\n",
      "    \n",
      "    toggle_selector.RS = RectangleSelector(ax, onselect, drawtype='box', useblit=True, rectprops=new_rectprops)\n",
      "    \n",
      "    currAxis = plt.gca()\n",
      "    for s in ROIs[index][1]:\n",
      "        currAxis.add_patch(Rectangle(s[0],s[1],s[2],alpha = 1, fc='none', ec='green'))\n",
      "    for s in ROIs[index][0]:\n",
      "        currAxis.add_patch(Rectangle(s[0],s[1],s[2],alpha = 1, fc='none', ec='red'))\n",
      "    \n",
      "    fig.canvas.draw()"
     ],
     "language": "python",
     "metadata": {},
     "outputs": [],
     "prompt_number": 15
    },
    {
     "cell_type": "code",
     "collapsed": false,
     "input": [
      "def onselect(eclick, erelease):\n",
      "    global index\n",
      "    global startpos\n",
      "    global endpos\n",
      "    global new_rectprops\n",
      "    global size\n",
      "\n",
      "    startpos[index] = [eclick.xdata, eclick.ydata]\n",
      "    endpos[index]   = [erelease.xdata, erelease.ydata]\n",
      "    \n",
      "    width = (abs(startpos[index][0] - endpos[index][0])) - ((abs(startpos[index][0] - endpos[index][0])) % size) - 1\n",
      "    height = (abs(startpos[index][1] - endpos[index][1])) - ((abs(startpos[index][1] - endpos[index][1])) % size) - 1\n",
      "    xy = ((startpos[index][0],startpos[index][1]))\n",
      "    \n",
      "    currAxis = plt.gca()\n",
      "    if eclick.button == 1:\n",
      "        currAxis.add_patch(Rectangle(xy,width,height,alpha = 1, fc='none', ec='red'))\n",
      "        ROIs[index][0].append([xy, width, height])\n",
      "    elif eclick.button == 3:\n",
      "        currAxis.add_patch(Rectangle(xy,width,height,alpha = 1, fc='none', ec='green'))\n",
      "        ROIs[index][1].append([xy, width, height])\n",
      "    \n",
      "    fig.canvas.draw()"
     ],
     "language": "python",
     "metadata": {},
     "outputs": [],
     "prompt_number": 16
    },
    {
     "cell_type": "code",
     "collapsed": false,
     "input": [
      "for subdir, dirs, files in os.walk(rootdir):\n",
      "    for file in files:\n",
      "        file_names = os.path.join(subdir, file)\n",
      "        if os.stat(file_names).st_size == 0:\n",
      "            arr.append('1')\n",
      "        else:\n",
      "            arr.append(sio.loadmat(file_names)['p']);\n",
      "            ROIs.append(([],[]))"
     ],
     "language": "python",
     "metadata": {},
     "outputs": [],
     "prompt_number": 17
    },
    {
     "cell_type": "code",
     "collapsed": false,
     "input": [
      "fig = plt.figure()\n",
      "ax = fig.add_subplot(111)\n",
      "ax.set_title(str(index+1)+'/26')\n",
      "ax.imshow(arr[index], cmap = 'gray', interpolation = 'bicubic')\n",
      "ax.plot(0)\n",
      "\n",
      "connect('key_press_event', set_rectprops)\n",
      "toggle_selector.RS = RectangleSelector(ax, onselect, drawtype='box', useblit=True, button=[1,3], rectprops=new_rectprops)\n",
      "connect('key_press_event', toggle_selector)\n",
      "connect('scroll_event', on_press)\n",
      "\n",
      "plt.show()"
     ],
     "language": "python",
     "metadata": {},
     "outputs": [],
     "prompt_number": 18
    },
    {
     "cell_type": "code",
     "collapsed": false,
     "input": [
      "bad_images_ROIs = []\n",
      "good_images_ROIs = []\n",
      "for s in range(len(ROIs)):\n",
      "    if ROIs[s] != ([],[]) :\n",
      "        for j in range(len(ROIs[s][0])):\n",
      "            (x, y), width, height = ROIs[s][0][j]\n",
      "            w = x\n",
      "            h = y\n",
      "            while h < (x+width):\n",
      "                while w < (y+height):\n",
      "                    bad_images_ROIs.append(arr[s][w:w+size,h:h+size])\n",
      "                    w = w + size\n",
      "                h = h + size\n",
      "                w = y\n",
      "        for j in range(len(ROIs[s][1])):\n",
      "            (x, y), width, height = ROIs[s][1][j]\n",
      "            w = x\n",
      "            h = y\n",
      "            while h < (x+width):\n",
      "                while w < (y+height):\n",
      "                    good_images_ROIs.append(arr[s][w:w+size,h:h+size])\n",
      "                    w = w + size\n",
      "                h = h + size\n",
      "                w = y"
     ],
     "language": "python",
     "metadata": {},
     "outputs": [],
     "prompt_number": 19
    },
    {
     "cell_type": "heading",
     "level": 3,
     "metadata": {},
     "source": [
      "Export the Good ROIs and the Bad ROIs"
     ]
    },
    {
     "cell_type": "code",
     "collapsed": false,
     "input": [
      "np.save('bad_images.npy',  bad_images_ROIs)\n",
      "np.save('good_images.npy', good_images_ROIs)"
     ],
     "language": "python",
     "metadata": {},
     "outputs": [],
     "prompt_number": 20
    }
   ],
   "metadata": {}
  }
 ]
}